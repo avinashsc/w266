{
 "cells": [
  {
   "cell_type": "code",
   "execution_count": 1,
   "metadata": {},
   "outputs": [],
   "source": [
    "#### Import all required models and flows ####\n",
    "\n",
    "import re\n",
    "import pandas as pd\n",
    "import numpy as np\n",
    "import os\n",
    "from sklearn.model_selection import train_test_split\n",
    "from sklearn.metrics import confusion_matrix\n",
    "from sklearn.metrics import accuracy_score\n",
    "from mlflow import log_metric, log_params\n",
    "\n",
    "import warnings\n",
    "warnings.filterwarnings('ignore')\n",
    "\n",
    "import tensorflow as tf\n",
    "from tensorflow import keras\n",
    "from tensorflow.core.protobuf import rewriter_config_pb2\n",
    "from tensorflow.keras.backend import set_session\n",
    "\n",
    "import gensim\n",
    "from gensim.scripts.glove2word2vec import glove2word2vec\n",
    "from gensim.models.keyedvectors import KeyedVectors\n",
    "from pathlib import Path"
   ]
  },
  {
   "cell_type": "code",
   "execution_count": 2,
   "metadata": {},
   "outputs": [],
   "source": [
    "##### Initialize all hyperparameters to none ####\n",
    "MAX_ARTICLE_LENGTH = None\n",
    "EMBEDDING_VECTOR_LENGTH = None\n",
    "EMBEDDING_VOCAB_SIZE = None\n",
    "LSTM_MEMORY_SIZE = None\n",
    "NN_OPTIMIZER = None\n",
    "NN_LOSS_FUNCTION = None\n",
    "NN_EPOCHS = None\n",
    "USE_GLOVE_EMBEDDINGS = None\n",
    "NN_BATCH_SIZE = None\n",
    "DATASET = None\n",
    "DROPOUT_RATE = None\n",
    "NN_ARCH_TYPE = None\n",
    "\n",
    "##### Initialize dataset area ####\n",
    "RANDOM_SEED = 139\n",
    "DATASET_PATH = \"fakeNewsDatasets\"\n",
    "ID_UNKNOWN = 399999\n",
    "\n",
    "#### Helper functions used later ####\n",
    "def cleanArticle(string):\n",
    "    strip_special_chars = re.compile(\"[^A-Za-z0-9 ]+\")\n",
    "    string = string.lower().replace(\"<br />\", \" \")\n",
    "    return re.sub(strip_special_chars, \"\", string.lower())\n",
    "\n",
    "def article_to_word_id_list(article, model):\n",
    "    word_index_list = []\n",
    "    word_list = article.split()\n",
    "    for i, word in enumerate(word_list):\n",
    "        if word in model.vocab:\n",
    "            word_index_list.append(model.vocab[word].index)\n",
    "        else:\n",
    "            # Unknown\n",
    "            word_index_list.append(ID_UNKNOWN)\n",
    "    return word_index_list    "
   ]
  },
  {
   "cell_type": "code",
   "execution_count": 3,
   "metadata": {},
   "outputs": [],
   "source": [
    "#### Load glove model and convert to word2vec ####\n",
    "\n",
    "def load_glove_model_v2(dim):\n",
    "    \"Adapted from https://www.programcreek.com/python/example/99240/gensim.models.KeyedVectors.load_word2vec_format\"\n",
    "\n",
    "    GLOVE_FILEPATH = 'glove.6B.%dd.txt' % EMBEDDING_VECTOR_LENGTH\n",
    "    print(\"Loading Glove embedding\")\n",
    "    glove_data_file = GLOVE_FILEPATH\n",
    "    word2vec_output_file = '%s.w2v' % glove_data_file\n",
    "\n",
    "    if not Path(word2vec_output_file).exists():\n",
    "        glove2word2vec(glove_input_file=glove_data_file, word2vec_output_file=word2vec_output_file)\n",
    "    model = KeyedVectors.load_word2vec_format(word2vec_output_file, binary=False)\n",
    "    print(\"Loaded Glove embedding\")\n",
    "\n",
    "    embedding_matrix = np.zeros((len(model.vocab), dim))\n",
    "    for i in range(len(model.vocab)):\n",
    "        embedding_vector = model[model.index2word[i]]\n",
    "        if embedding_vector is not None:\n",
    "            embedding_matrix[i] = embedding_vector\n",
    "\n",
    "    return model, embedding_matrix"
   ]
  },
  {
   "cell_type": "code",
   "execution_count": 4,
   "metadata": {},
   "outputs": [],
   "source": [
    "#### Read the dataset into a dataframe for further processing ####\n",
    "\n",
    "def read_dataset(dataset_name):\n",
    "    \n",
    "    def remove_numbers(in_str):\n",
    "        return re.sub(r'[0-9]+', '', in_str)\n",
    "        \n",
    "    print(\"Reading dataset\")\n",
    "    result_data_list = []\n",
    "    data_dir = DATASET_PATH\n",
    "    for news_type in ['fake', 'legit']:\n",
    "        folder = '%s/%s/%s' % (data_dir, dataset_name, news_type)\n",
    "        for fname in os.listdir(folder):\n",
    "            result_data = {}\n",
    "            result_data['dataset_name'] = dataset_name\n",
    "            result_data['news_type'] = news_type\n",
    "            if news_type == 'fake':\n",
    "                result_data['is_fake'] = 1\n",
    "            else:\n",
    "                result_data['is_fake'] = 0\n",
    "            if dataset_name == 'fakeNewsDataset':\n",
    "                result_data['news_category'] = remove_numbers(fname.split('.')[0])\n",
    "            result_data['file_name'] = fname\n",
    "            filepath = os.path.join(folder, fname)\n",
    "            with open(filepath, 'r', encoding=\"utf8\") as f:\n",
    "                file_data = f.read().split('\\n')\n",
    "                # Some articles don't have a headline, but only article body.\n",
    "                if len(file_data) > 1:\n",
    "                    news_content_data = ' '.join(file_data[2:])\n",
    "                    result_data['news_headline'] = file_data[0]\n",
    "                else:\n",
    "                    news_content_data = file_data[0]\n",
    "                    result_data['news_headline'] = ''\n",
    "                result_data['news_content'] = news_content_data\n",
    "                result_data['news_all'] = ' '.join(file_data[0:])\n",
    "                result_data_list.append(result_data)\n",
    "                \n",
    "    df = pd.DataFrame(result_data_list)\n",
    "    \n",
    "    model, embedding_matrix = load_glove_model_v2(EMBEDDING_VECTOR_LENGTH)\n",
    "    df['news_all_clean'] = df['news_all'].apply(lambda a: cleanArticle(a))\n",
    "    df['news_embed_idx'] = df['news_all_clean'].apply(lambda a: article_to_word_id_list(a, model))\n",
    "    \n",
    "    X_train, X_test, y_train, y_test = train_test_split(df['news_embed_idx'], df['is_fake'], \n",
    "                                                        test_size=.2, random_state=RANDOM_SEED)\n",
    "    X_train, X_val, y_train, y_val = train_test_split(X_train, y_train, test_size=0.25, random_state=RANDOM_SEED)\n",
    "    \n",
    "    print(\"Finished reading dataset\")\n",
    "    return X_train, X_val, X_test, y_train, y_val, y_test, embedding_matrix"
   ]
  },
  {
   "cell_type": "code",
   "execution_count": 5,
   "metadata": {},
   "outputs": [],
   "source": [
    "def model_execute(hyperparameter_dict):\n",
    "\n",
    "    np.random.seed(RANDOM_SEED)\n",
    "    \n",
    "    for k, v in hyperparameter_dict.items():\n",
    "        globals()[k] = v\n",
    "        \n",
    "    X_train, X_val, X_test, y_train, y_val, y_test, embedding_matrix = read_dataset(DATASET)\n",
    "    \n",
    "    # Add padding if needed\n",
    "    X_train = tf.keras.preprocessing.sequence.pad_sequences(X_train, maxlen=MAX_ARTICLE_LENGTH)\n",
    "    X_val = tf.keras.preprocessing.sequence.pad_sequences(X_val, maxlen=MAX_ARTICLE_LENGTH)\n",
    "    X_test = tf.keras.preprocessing.sequence.pad_sequences(X_test, maxlen=MAX_ARTICLE_LENGTH)\n",
    "    \n",
    "    # For easy reset of notebook state.\n",
    "    tf.keras.backend.clear_session()  \n",
    "    config_proto = tf.ConfigProto()\n",
    "    off = rewriter_config_pb2.RewriterConfig.OFF\n",
    "    config_proto.graph_options.rewrite_options.arithmetic_optimization = off\n",
    "    session = tf.Session(config=config_proto)\n",
    "    set_session(session)\n",
    "\n",
    "    # Define model\n",
    "    model = keras.Sequential()\n",
    "\n",
    "    model.add(keras.layers.Embedding(EMBEDDING_VOCAB_SIZE, EMBEDDING_VECTOR_LENGTH, input_length=MAX_ARTICLE_LENGTH))\n",
    "\n",
    "    # Neural network type\n",
    "    if NN_ARCH_TYPE == '2layerLSTM':\n",
    "        model.add(keras.layers.LSTM(LSTM_MEMORY_SIZE, dropout=DROPOUT_RATE, return_sequences=True, \n",
    "                                    input_shape=(MAX_ARTICLE_LENGTH, EMBEDDING_VECTOR_LENGTH)))\n",
    "        model.add(keras.layers.LSTM(LSTM_MEMORY_SIZE, dropout=DROPOUT_RATE))\n",
    "    elif NN_ARCH_TYPE == '1layerLSTM':\n",
    "        model.add(keras.layers.LSTM(LSTM_MEMORY_SIZE, dropout=DROPOUT_RATE))\n",
    "    elif NN_ARCH_TYPE == '1layerGRU':\n",
    "        model.add(keras.layers.GRU(LSTM_MEMORY_SIZE, dropout=DROPOUT_RATE))\n",
    "    else:\n",
    "        assert False, \"Unknown NN arch type\"\n",
    "\n",
    "    model.add(keras.layers.Dense(1, activation='sigmoid'))\n",
    "    model.compile(loss=NN_LOSS_FUNCTION, optimizer=tf.keras.optimizers.Adam(0.0001), metrics=['accuracy'])\n",
    "    print(model.summary())\n",
    "    \n",
    "    # Train model\n",
    "    model.fit(X_train, y_train, validation_data=(X_val, y_val), epochs=NN_EPOCHS, batch_size=NN_BATCH_SIZE)\n",
    "    \n",
    "    # Predict model on validation (Dev) set \n",
    "    scores = model.evaluate(X_val, y_val, verbose=1)\n",
    "    accuracy = scores[1] * 100\n",
    "    log_metric('accuracy', accuracy)\n",
    "    print(\"Accuracy: %.2f%%\" % accuracy)\n",
    "    \n",
    "    # Predict model on test set \n",
    "    scores = model.evaluate(X_test, y_test, verbose=1)\n",
    "    accuracy = scores[1] * 100\n",
    "    log_metric('accuracy', accuracy)\n",
    "    print(\"Accuracy on Test Set: %.2f%%\" % accuracy)\n",
    "    \n",
    "    # Confusion matrix of results (ensure it doesn't predict the same class for all records)\n",
    "    y_pred = model.predict(X_test)\n",
    "    y_pred = (y_pred > 0.5)\n",
    "    print(confusion_matrix(y_test, y_pred))"
   ]
  },
  {
   "cell_type": "code",
   "execution_count": 14,
   "metadata": {},
   "outputs": [
    {
     "name": "stdout",
     "output_type": "stream",
     "text": [
      "Reading dataset\n",
      "Loading Glove embedding\n",
      "Loaded Glove embedding\n",
      "Finished reading dataset\n",
      "WARNING:tensorflow:From /home/avinashc/anaconda3/lib/python3.7/site-packages/tensorflow_core/python/keras/initializers.py:119: calling RandomUniform.__init__ (from tensorflow.python.ops.init_ops) with dtype is deprecated and will be removed in a future version.\n",
      "Instructions for updating:\n",
      "Call initializer instance with the dtype argument instead of passing it to the constructor\n",
      "WARNING:tensorflow:From /home/avinashc/anaconda3/lib/python3.7/site-packages/tensorflow_core/python/ops/resource_variable_ops.py:1630: calling BaseResourceVariable.__init__ (from tensorflow.python.ops.resource_variable_ops) with constraint is deprecated and will be removed in a future version.\n",
      "Instructions for updating:\n",
      "If using Keras pass *_constraint arguments to layers.\n",
      "WARNING:tensorflow:From /home/avinashc/anaconda3/lib/python3.7/site-packages/tensorflow_core/python/ops/nn_impl.py:183: where (from tensorflow.python.ops.array_ops) is deprecated and will be removed in a future version.\n",
      "Instructions for updating:\n",
      "Use tf.where in 2.0, which has the same broadcast rule as np.where\n",
      "Model: \"sequential\"\n",
      "_________________________________________________________________\n",
      "Layer (type)                 Output Shape              Param #   \n",
      "=================================================================\n",
      "embedding (Embedding)        (None, 500, 50)           20000000  \n",
      "_________________________________________________________________\n",
      "lstm (LSTM)                  (None, 100)               60400     \n",
      "_________________________________________________________________\n",
      "dense (Dense)                (None, 1)                 101       \n",
      "=================================================================\n",
      "Total params: 20,060,501\n",
      "Trainable params: 20,060,501\n",
      "Non-trainable params: 0\n",
      "_________________________________________________________________\n",
      "None\n",
      "Train on 300 samples, validate on 100 samples\n",
      "Epoch 1/35\n",
      "300/300 [==============================] - 12s 41ms/sample - loss: 0.6930 - acc: 0.5167 - val_loss: 0.6935 - val_acc: 0.4400\n",
      "Epoch 2/35\n",
      "300/300 [==============================] - 11s 36ms/sample - loss: 0.6923 - acc: 0.5967 - val_loss: 0.6935 - val_acc: 0.4600\n",
      "Epoch 3/35\n",
      "300/300 [==============================] - 11s 36ms/sample - loss: 0.6924 - acc: 0.5833 - val_loss: 0.6934 - val_acc: 0.4600\n",
      "Epoch 4/35\n",
      "300/300 [==============================] - 11s 36ms/sample - loss: 0.6922 - acc: 0.5867 - val_loss: 0.6934 - val_acc: 0.4700\n",
      "Epoch 5/35\n",
      "300/300 [==============================] - 11s 36ms/sample - loss: 0.6914 - acc: 0.6133 - val_loss: 0.6934 - val_acc: 0.4600\n",
      "Epoch 6/35\n",
      "300/300 [==============================] - 11s 36ms/sample - loss: 0.6913 - acc: 0.6467 - val_loss: 0.6934 - val_acc: 0.4600\n",
      "Epoch 7/35\n",
      "300/300 [==============================] - 11s 36ms/sample - loss: 0.6908 - acc: 0.6867 - val_loss: 0.6933 - val_acc: 0.5100\n",
      "Epoch 8/35\n",
      "300/300 [==============================] - 11s 36ms/sample - loss: 0.6903 - acc: 0.6700 - val_loss: 0.6933 - val_acc: 0.5100\n",
      "Epoch 9/35\n",
      "300/300 [==============================] - 11s 36ms/sample - loss: 0.6892 - acc: 0.7133 - val_loss: 0.6932 - val_acc: 0.4900\n",
      "Epoch 10/35\n",
      "300/300 [==============================] - 11s 36ms/sample - loss: 0.6891 - acc: 0.7133 - val_loss: 0.6931 - val_acc: 0.4900\n",
      "Epoch 11/35\n",
      "300/300 [==============================] - 11s 36ms/sample - loss: 0.6884 - acc: 0.7467 - val_loss: 0.6930 - val_acc: 0.4800\n",
      "Epoch 12/35\n",
      "300/300 [==============================] - 11s 36ms/sample - loss: 0.6862 - acc: 0.7500 - val_loss: 0.6928 - val_acc: 0.5000\n",
      "Epoch 13/35\n",
      "300/300 [==============================] - 11s 36ms/sample - loss: 0.6864 - acc: 0.8000 - val_loss: 0.6927 - val_acc: 0.5000\n",
      "Epoch 14/35\n",
      "300/300 [==============================] - 11s 36ms/sample - loss: 0.6835 - acc: 0.8267 - val_loss: 0.6925 - val_acc: 0.5000\n",
      "Epoch 15/35\n",
      "300/300 [==============================] - 11s 36ms/sample - loss: 0.6817 - acc: 0.8333 - val_loss: 0.6921 - val_acc: 0.5300\n",
      "Epoch 16/35\n",
      "300/300 [==============================] - 11s 36ms/sample - loss: 0.6785 - acc: 0.8533 - val_loss: 0.6915 - val_acc: 0.5900\n",
      "Epoch 17/35\n",
      "300/300 [==============================] - 11s 36ms/sample - loss: 0.6737 - acc: 0.8433 - val_loss: 0.6906 - val_acc: 0.6100\n",
      "Epoch 18/35\n",
      "300/300 [==============================] - 11s 36ms/sample - loss: 0.6655 - acc: 0.8633 - val_loss: 0.6888 - val_acc: 0.5700\n",
      "Epoch 19/35\n",
      "300/300 [==============================] - 11s 36ms/sample - loss: 0.6529 - acc: 0.8167 - val_loss: 0.6814 - val_acc: 0.5700\n",
      "Epoch 20/35\n",
      "300/300 [==============================] - 11s 36ms/sample - loss: 0.6254 - acc: 0.7233 - val_loss: 0.6796 - val_acc: 0.6000\n",
      "Epoch 21/35\n",
      "300/300 [==============================] - 11s 36ms/sample - loss: 0.6086 - acc: 0.8033 - val_loss: 0.6865 - val_acc: 0.5500\n",
      "Epoch 22/35\n",
      "300/300 [==============================] - 11s 36ms/sample - loss: 0.5968 - acc: 0.7967 - val_loss: 0.6746 - val_acc: 0.6100\n",
      "Epoch 23/35\n",
      "300/300 [==============================] - 11s 35ms/sample - loss: 0.5553 - acc: 0.8100 - val_loss: 0.6494 - val_acc: 0.6200\n",
      "Epoch 24/35\n",
      "300/300 [==============================] - 11s 35ms/sample - loss: 0.5287 - acc: 0.7900 - val_loss: 0.6452 - val_acc: 0.6700\n",
      "Epoch 25/35\n",
      "300/300 [==============================] - 11s 36ms/sample - loss: 0.5066 - acc: 0.8400 - val_loss: 0.6329 - val_acc: 0.6800\n",
      "Epoch 26/35\n",
      "300/300 [==============================] - 11s 35ms/sample - loss: 0.4775 - acc: 0.8267 - val_loss: 0.6662 - val_acc: 0.6100\n",
      "Epoch 27/35\n",
      "300/300 [==============================] - 11s 36ms/sample - loss: 0.4613 - acc: 0.8467 - val_loss: 0.6328 - val_acc: 0.6500\n",
      "Epoch 28/35\n",
      "300/300 [==============================] - 11s 36ms/sample - loss: 0.4212 - acc: 0.8567 - val_loss: 0.6438 - val_acc: 0.6500\n",
      "Epoch 29/35\n",
      "300/300 [==============================] - 11s 35ms/sample - loss: 0.4090 - acc: 0.8733 - val_loss: 0.6204 - val_acc: 0.6400\n",
      "Epoch 30/35\n",
      "300/300 [==============================] - 11s 36ms/sample - loss: 0.3932 - acc: 0.8867 - val_loss: 0.6159 - val_acc: 0.6600\n",
      "Epoch 31/35\n",
      "300/300 [==============================] - 11s 36ms/sample - loss: 0.3664 - acc: 0.8933 - val_loss: 0.6393 - val_acc: 0.6500\n",
      "Epoch 32/35\n",
      "300/300 [==============================] - 11s 35ms/sample - loss: 0.3568 - acc: 0.8933 - val_loss: 0.5861 - val_acc: 0.6800\n",
      "Epoch 33/35\n",
      "300/300 [==============================] - 11s 35ms/sample - loss: 0.3293 - acc: 0.9033 - val_loss: 0.6683 - val_acc: 0.6400\n",
      "Epoch 34/35\n",
      "300/300 [==============================] - 11s 36ms/sample - loss: 0.2912 - acc: 0.9267 - val_loss: 0.7588 - val_acc: 0.6200\n",
      "Epoch 35/35\n",
      "300/300 [==============================] - 11s 36ms/sample - loss: 0.3442 - acc: 0.8267 - val_loss: 0.6776 - val_acc: 0.6300\n",
      "100/100 [==============================] - 1s 9ms/sample - loss: 0.6776 - acc: 0.6300\n",
      "Accuracy: 63.00%\n",
      "100/100 [==============================] - 1s 9ms/sample - loss: 0.7764 - acc: 0.5800\n",
      "Accuracy on Test Set: 58.00%\n",
      "[[46  8]\n",
      " [34 12]]\n"
     ]
    }
   ],
   "source": [
    "hyperparameter = {\n",
    "            'MAX_ARTICLE_LENGTH': 500,\n",
    "            'EMBEDDING_VECTOR_LENGTH': 50,\n",
    "            'EMBEDDING_VOCAB_SIZE': 400000,\n",
    "            'LSTM_MEMORY_SIZE': 100,\n",
    "            'NN_LOSS_FUNCTION': 'binary_crossentropy',\n",
    "            'NN_EPOCHS': 35,\n",
    "            'USE_GLOVE_EMBEDDINGS': False,\n",
    "            'NN_BATCH_SIZE': 50,\n",
    "            'DATASET': 'celebrityDataset',\n",
    "            'DROPOUT_RATE': 0.5,\n",
    "            'NN_ARCH_TYPE': '1layerLSTM',\n",
    "        }\n",
    "model_execute(hyperparameter)"
   ]
  },
  {
   "cell_type": "code",
   "execution_count": 15,
   "metadata": {},
   "outputs": [
    {
     "name": "stdout",
     "output_type": "stream",
     "text": [
      "Reading dataset\n",
      "Loading Glove embedding\n",
      "Loaded Glove embedding\n",
      "Finished reading dataset\n",
      "Model: \"sequential\"\n",
      "_________________________________________________________________\n",
      "Layer (type)                 Output Shape              Param #   \n",
      "=================================================================\n",
      "embedding (Embedding)        (None, 500, 50)           20000000  \n",
      "_________________________________________________________________\n",
      "lstm (LSTM)                  (None, 500, 100)          60400     \n",
      "_________________________________________________________________\n",
      "lstm_1 (LSTM)                (None, 100)               80400     \n",
      "_________________________________________________________________\n",
      "dense (Dense)                (None, 1)                 101       \n",
      "=================================================================\n",
      "Total params: 20,140,901\n",
      "Trainable params: 20,140,901\n",
      "Non-trainable params: 0\n",
      "_________________________________________________________________\n",
      "None\n",
      "Train on 300 samples, validate on 100 samples\n",
      "Epoch 1/25\n",
      "300/300 [==============================] - 21s 71ms/sample - loss: 0.6932 - acc: 0.4900 - val_loss: 0.6931 - val_acc: 0.5200\n",
      "Epoch 2/25\n",
      "300/300 [==============================] - 20s 65ms/sample - loss: 0.6926 - acc: 0.5867 - val_loss: 0.6930 - val_acc: 0.5200\n",
      "Epoch 3/25\n",
      "300/300 [==============================] - 20s 66ms/sample - loss: 0.6927 - acc: 0.5533 - val_loss: 0.6929 - val_acc: 0.5500\n",
      "Epoch 4/25\n",
      "300/300 [==============================] - 20s 66ms/sample - loss: 0.6925 - acc: 0.5767 - val_loss: 0.6928 - val_acc: 0.5700\n",
      "Epoch 5/25\n",
      "300/300 [==============================] - 20s 66ms/sample - loss: 0.6921 - acc: 0.6033 - val_loss: 0.6928 - val_acc: 0.5300\n",
      "Epoch 6/25\n",
      "300/300 [==============================] - 20s 66ms/sample - loss: 0.6917 - acc: 0.6333 - val_loss: 0.6927 - val_acc: 0.5600\n",
      "Epoch 7/25\n",
      "300/300 [==============================] - 20s 66ms/sample - loss: 0.6915 - acc: 0.6500 - val_loss: 0.6925 - val_acc: 0.6100\n",
      "Epoch 8/25\n",
      "300/300 [==============================] - 20s 66ms/sample - loss: 0.6911 - acc: 0.6800 - val_loss: 0.6923 - val_acc: 0.6400\n",
      "Epoch 9/25\n",
      "300/300 [==============================] - 20s 66ms/sample - loss: 0.6904 - acc: 0.6933 - val_loss: 0.6922 - val_acc: 0.6200\n",
      "Epoch 10/25\n",
      "300/300 [==============================] - 20s 66ms/sample - loss: 0.6895 - acc: 0.7533 - val_loss: 0.6919 - val_acc: 0.6300\n",
      "Epoch 11/25\n",
      "300/300 [==============================] - 20s 66ms/sample - loss: 0.6882 - acc: 0.7600 - val_loss: 0.6916 - val_acc: 0.6400\n",
      "Epoch 12/25\n",
      "300/300 [==============================] - 20s 66ms/sample - loss: 0.6863 - acc: 0.7733 - val_loss: 0.6911 - val_acc: 0.6500\n",
      "Epoch 13/25\n",
      "300/300 [==============================] - 20s 66ms/sample - loss: 0.6849 - acc: 0.7667 - val_loss: 0.6906 - val_acc: 0.6100\n",
      "Epoch 14/25\n",
      "300/300 [==============================] - 20s 66ms/sample - loss: 0.6809 - acc: 0.7733 - val_loss: 0.6897 - val_acc: 0.6200\n",
      "Epoch 15/25\n",
      "300/300 [==============================] - 20s 65ms/sample - loss: 0.6738 - acc: 0.8200 - val_loss: 0.6883 - val_acc: 0.5800\n",
      "Epoch 16/25\n",
      "300/300 [==============================] - 20s 65ms/sample - loss: 0.6556 - acc: 0.7867 - val_loss: 0.6855 - val_acc: 0.5900\n",
      "Epoch 17/25\n",
      "300/300 [==============================] - 20s 65ms/sample - loss: 0.6175 - acc: 0.8400 - val_loss: 0.6756 - val_acc: 0.5500\n",
      "Epoch 18/25\n",
      "300/300 [==============================] - 20s 65ms/sample - loss: 0.5511 - acc: 0.7767 - val_loss: 0.6850 - val_acc: 0.6000\n",
      "Epoch 19/25\n",
      "300/300 [==============================] - 20s 65ms/sample - loss: 0.4948 - acc: 0.7767 - val_loss: 0.6629 - val_acc: 0.6300\n",
      "Epoch 20/25\n",
      "300/300 [==============================] - 20s 65ms/sample - loss: 0.4241 - acc: 0.8233 - val_loss: 0.6542 - val_acc: 0.5800\n",
      "Epoch 21/25\n",
      "300/300 [==============================] - 20s 65ms/sample - loss: 0.3771 - acc: 0.8533 - val_loss: 0.6653 - val_acc: 0.6400\n",
      "Epoch 22/25\n",
      "300/300 [==============================] - 20s 65ms/sample - loss: 0.3168 - acc: 0.8867 - val_loss: 0.6589 - val_acc: 0.6200\n",
      "Epoch 23/25\n",
      "300/300 [==============================] - 20s 66ms/sample - loss: 0.2846 - acc: 0.8867 - val_loss: 0.6819 - val_acc: 0.6300\n",
      "Epoch 24/25\n",
      "300/300 [==============================] - 20s 65ms/sample - loss: 0.2413 - acc: 0.9100 - val_loss: 0.6776 - val_acc: 0.6600\n",
      "Epoch 25/25\n",
      "300/300 [==============================] - 20s 65ms/sample - loss: 0.1932 - acc: 0.9467 - val_loss: 0.6989 - val_acc: 0.6300\n",
      "100/100 [==============================] - 2s 19ms/sample - loss: 0.6989 - acc: 0.6300\n",
      "Accuracy: 63.00%\n",
      "100/100 [==============================] - 2s 18ms/sample - loss: 0.7507 - acc: 0.6300\n",
      "Accuracy on Test Set: 63.00%\n",
      "[[28 26]\n",
      " [11 35]]\n"
     ]
    }
   ],
   "source": [
    "hyperparameter = {\n",
    "            'MAX_ARTICLE_LENGTH': 500,\n",
    "            'EMBEDDING_VECTOR_LENGTH': 50,\n",
    "            'EMBEDDING_VOCAB_SIZE': 400000,\n",
    "            'LSTM_MEMORY_SIZE': 100,\n",
    "            'NN_LOSS_FUNCTION': 'binary_crossentropy',\n",
    "            'NN_EPOCHS': 25,\n",
    "            'USE_GLOVE_EMBEDDINGS': False,\n",
    "            'NN_BATCH_SIZE': 50,\n",
    "            'DATASET': 'celebrityDataset',\n",
    "            'DROPOUT_RATE': 0.5,\n",
    "            'NN_ARCH_TYPE': '2layerLSTM',\n",
    "        }\n",
    "model_execute(hyperparameter)"
   ]
  },
  {
   "cell_type": "code",
   "execution_count": 16,
   "metadata": {},
   "outputs": [
    {
     "name": "stdout",
     "output_type": "stream",
     "text": [
      "Reading dataset\n",
      "Loading Glove embedding\n",
      "Loaded Glove embedding\n",
      "Finished reading dataset\n",
      "Model: \"sequential\"\n",
      "_________________________________________________________________\n",
      "Layer (type)                 Output Shape              Param #   \n",
      "=================================================================\n",
      "embedding (Embedding)        (None, 500, 50)           20000000  \n",
      "_________________________________________________________________\n",
      "gru (GRU)                    (None, 100)               45300     \n",
      "_________________________________________________________________\n",
      "dense (Dense)                (None, 1)                 101       \n",
      "=================================================================\n",
      "Total params: 20,045,401\n",
      "Trainable params: 20,045,401\n",
      "Non-trainable params: 0\n",
      "_________________________________________________________________\n",
      "None\n",
      "Train on 300 samples, validate on 100 samples\n",
      "Epoch 1/45\n",
      "300/300 [==============================] - 10s 33ms/sample - loss: 0.6933 - acc: 0.5033 - val_loss: 0.6925 - val_acc: 0.5200\n",
      "Epoch 2/45\n",
      "300/300 [==============================] - 10s 32ms/sample - loss: 0.6926 - acc: 0.5167 - val_loss: 0.6925 - val_acc: 0.5300\n",
      "Epoch 3/45\n",
      "300/300 [==============================] - 9s 32ms/sample - loss: 0.6923 - acc: 0.5333 - val_loss: 0.6925 - val_acc: 0.5400\n",
      "Epoch 4/45\n",
      "300/300 [==============================] - 9s 32ms/sample - loss: 0.6917 - acc: 0.5467 - val_loss: 0.6925 - val_acc: 0.5400\n",
      "Epoch 5/45\n",
      "300/300 [==============================] - 9s 32ms/sample - loss: 0.6913 - acc: 0.5700 - val_loss: 0.6925 - val_acc: 0.5300\n",
      "Epoch 6/45\n",
      "300/300 [==============================] - 9s 31ms/sample - loss: 0.6911 - acc: 0.5933 - val_loss: 0.6925 - val_acc: 0.5300\n",
      "Epoch 7/45\n",
      "300/300 [==============================] - 9s 32ms/sample - loss: 0.6914 - acc: 0.5333 - val_loss: 0.6925 - val_acc: 0.5500\n",
      "Epoch 8/45\n",
      "300/300 [==============================] - 9s 31ms/sample - loss: 0.6908 - acc: 0.5900 - val_loss: 0.6925 - val_acc: 0.5300\n",
      "Epoch 9/45\n",
      "300/300 [==============================] - 9s 32ms/sample - loss: 0.6894 - acc: 0.6533 - val_loss: 0.6925 - val_acc: 0.5400\n",
      "Epoch 10/45\n",
      "300/300 [==============================] - 9s 31ms/sample - loss: 0.6894 - acc: 0.6000 - val_loss: 0.6924 - val_acc: 0.5200\n",
      "Epoch 11/45\n",
      "300/300 [==============================] - 9s 31ms/sample - loss: 0.6891 - acc: 0.6067 - val_loss: 0.6924 - val_acc: 0.5200\n",
      "Epoch 12/45\n",
      "300/300 [==============================] - 9s 31ms/sample - loss: 0.6879 - acc: 0.7067 - val_loss: 0.6923 - val_acc: 0.5400\n",
      "Epoch 13/45\n",
      "300/300 [==============================] - 9s 31ms/sample - loss: 0.6873 - acc: 0.6633 - val_loss: 0.6923 - val_acc: 0.5100\n",
      "Epoch 14/45\n",
      "300/300 [==============================] - 10s 32ms/sample - loss: 0.6860 - acc: 0.7233 - val_loss: 0.6923 - val_acc: 0.5100\n",
      "Epoch 15/45\n",
      "300/300 [==============================] - 9s 32ms/sample - loss: 0.6867 - acc: 0.6833 - val_loss: 0.6922 - val_acc: 0.5100\n",
      "Epoch 16/45\n",
      "300/300 [==============================] - 9s 31ms/sample - loss: 0.6836 - acc: 0.7733 - val_loss: 0.6922 - val_acc: 0.5300\n",
      "Epoch 17/45\n",
      "300/300 [==============================] - 9s 31ms/sample - loss: 0.6839 - acc: 0.7433 - val_loss: 0.6921 - val_acc: 0.5300\n",
      "Epoch 18/45\n",
      "300/300 [==============================] - 9s 31ms/sample - loss: 0.6818 - acc: 0.7833 - val_loss: 0.6919 - val_acc: 0.5100\n",
      "Epoch 19/45\n",
      "300/300 [==============================] - 9s 31ms/sample - loss: 0.6811 - acc: 0.7633 - val_loss: 0.6918 - val_acc: 0.5100\n",
      "Epoch 20/45\n",
      "300/300 [==============================] - 9s 31ms/sample - loss: 0.6806 - acc: 0.7800 - val_loss: 0.6917 - val_acc: 0.5100\n",
      "Epoch 21/45\n",
      "300/300 [==============================] - 9s 31ms/sample - loss: 0.6787 - acc: 0.7700 - val_loss: 0.6915 - val_acc: 0.5100\n",
      "Epoch 22/45\n",
      "300/300 [==============================] - 9s 31ms/sample - loss: 0.6756 - acc: 0.8267 - val_loss: 0.6914 - val_acc: 0.5100\n",
      "Epoch 23/45\n",
      "300/300 [==============================] - 9s 31ms/sample - loss: 0.6734 - acc: 0.8400 - val_loss: 0.6912 - val_acc: 0.5300\n",
      "Epoch 24/45\n",
      "300/300 [==============================] - 9s 31ms/sample - loss: 0.6705 - acc: 0.8600 - val_loss: 0.6910 - val_acc: 0.5200\n",
      "Epoch 25/45\n",
      "300/300 [==============================] - 9s 31ms/sample - loss: 0.6677 - acc: 0.8567 - val_loss: 0.6907 - val_acc: 0.5200\n",
      "Epoch 26/45\n",
      "300/300 [==============================] - 9s 31ms/sample - loss: 0.6652 - acc: 0.8800 - val_loss: 0.6905 - val_acc: 0.5100\n",
      "Epoch 27/45\n",
      "300/300 [==============================] - 9s 31ms/sample - loss: 0.6576 - acc: 0.9067 - val_loss: 0.6899 - val_acc: 0.5400\n",
      "Epoch 28/45\n",
      "300/300 [==============================] - 9s 31ms/sample - loss: 0.6552 - acc: 0.9067 - val_loss: 0.6893 - val_acc: 0.5500\n",
      "Epoch 29/45\n",
      "300/300 [==============================] - 9s 31ms/sample - loss: 0.6482 - acc: 0.9000 - val_loss: 0.6885 - val_acc: 0.5300\n",
      "Epoch 30/45\n",
      "300/300 [==============================] - 9s 32ms/sample - loss: 0.6362 - acc: 0.9333 - val_loss: 0.6871 - val_acc: 0.5400\n",
      "Epoch 31/45\n",
      "300/300 [==============================] - 9s 31ms/sample - loss: 0.6210 - acc: 0.9300 - val_loss: 0.6851 - val_acc: 0.5600\n",
      "Epoch 32/45\n",
      "300/300 [==============================] - 9s 31ms/sample - loss: 0.5977 - acc: 0.9567 - val_loss: 0.6813 - val_acc: 0.5700\n",
      "Epoch 33/45\n",
      "300/300 [==============================] - 9s 31ms/sample - loss: 0.5592 - acc: 0.9200 - val_loss: 0.6761 - val_acc: 0.5600\n",
      "Epoch 34/45\n",
      "300/300 [==============================] - 9s 32ms/sample - loss: 0.4960 - acc: 0.7933 - val_loss: 0.6833 - val_acc: 0.5900\n",
      "Epoch 35/45\n",
      "300/300 [==============================] - 9s 31ms/sample - loss: 0.4372 - acc: 0.8800 - val_loss: 0.6616 - val_acc: 0.5900\n",
      "Epoch 36/45\n",
      "300/300 [==============================] - 10s 32ms/sample - loss: 0.4101 - acc: 0.8767 - val_loss: 0.6705 - val_acc: 0.6200\n",
      "Epoch 37/45\n",
      "300/300 [==============================] - 9s 32ms/sample - loss: 0.3657 - acc: 0.8733 - val_loss: 0.6744 - val_acc: 0.6600\n",
      "Epoch 38/45\n",
      "300/300 [==============================] - 9s 32ms/sample - loss: 0.3180 - acc: 0.9067 - val_loss: 0.6574 - val_acc: 0.6200\n",
      "Epoch 39/45\n",
      "300/300 [==============================] - 9s 32ms/sample - loss: 0.3007 - acc: 0.9233 - val_loss: 0.6756 - val_acc: 0.6500\n",
      "Epoch 40/45\n",
      "300/300 [==============================] - 10s 32ms/sample - loss: 0.2670 - acc: 0.9100 - val_loss: 0.6550 - val_acc: 0.6300\n",
      "Epoch 41/45\n",
      "300/300 [==============================] - 9s 31ms/sample - loss: 0.2490 - acc: 0.9367 - val_loss: 0.6585 - val_acc: 0.6500\n",
      "Epoch 42/45\n",
      "300/300 [==============================] - 9s 31ms/sample - loss: 0.2224 - acc: 0.9467 - val_loss: 0.6868 - val_acc: 0.6400\n",
      "Epoch 43/45\n",
      "300/300 [==============================] - 9s 31ms/sample - loss: 0.2102 - acc: 0.9267 - val_loss: 0.6588 - val_acc: 0.7000\n",
      "Epoch 44/45\n",
      "300/300 [==============================] - 9s 31ms/sample - loss: 0.1808 - acc: 0.9633 - val_loss: 0.7208 - val_acc: 0.6600\n",
      "Epoch 45/45\n",
      "300/300 [==============================] - 9s 31ms/sample - loss: 0.1897 - acc: 0.9300 - val_loss: 0.6358 - val_acc: 0.6600\n",
      "100/100 [==============================] - 1s 6ms/sample - loss: 0.6358 - acc: 0.6600\n",
      "Accuracy: 66.00%\n",
      "100/100 [==============================] - 1s 6ms/sample - loss: 0.7211 - acc: 0.5100\n",
      "Accuracy on Test Set: 51.00%\n",
      "[[26 28]\n",
      " [21 25]]\n"
     ]
    }
   ],
   "source": [
    "hyperparameter = {\n",
    "            'MAX_ARTICLE_LENGTH': 500,\n",
    "            'EMBEDDING_VECTOR_LENGTH': 50,\n",
    "            'EMBEDDING_VOCAB_SIZE': 400000,\n",
    "            'LSTM_MEMORY_SIZE': 100,\n",
    "            'NN_LOSS_FUNCTION': 'binary_crossentropy',\n",
    "            'NN_EPOCHS': 45,\n",
    "            'USE_GLOVE_EMBEDDINGS': False,\n",
    "            'NN_BATCH_SIZE': 50,\n",
    "            'DATASET': 'celebrityDataset',\n",
    "            'DROPOUT_RATE': 0.5,\n",
    "            'NN_ARCH_TYPE': '1layerGRU',\n",
    "        }\n",
    "model_execute(hyperparameter)"
   ]
  },
  {
   "cell_type": "code",
   "execution_count": 22,
   "metadata": {},
   "outputs": [
    {
     "name": "stdout",
     "output_type": "stream",
     "text": [
      "Reading dataset\n",
      "Loading Glove embedding\n",
      "Loaded Glove embedding\n",
      "Finished reading dataset\n",
      "WARNING:tensorflow:From /home/avinashc/anaconda3/lib/python3.7/site-packages/tensorflow_core/python/keras/initializers.py:119: calling RandomUniform.__init__ (from tensorflow.python.ops.init_ops) with dtype is deprecated and will be removed in a future version.\n",
      "Instructions for updating:\n",
      "Call initializer instance with the dtype argument instead of passing it to the constructor\n",
      "WARNING:tensorflow:From /home/avinashc/anaconda3/lib/python3.7/site-packages/tensorflow_core/python/ops/resource_variable_ops.py:1630: calling BaseResourceVariable.__init__ (from tensorflow.python.ops.resource_variable_ops) with constraint is deprecated and will be removed in a future version.\n",
      "Instructions for updating:\n",
      "If using Keras pass *_constraint arguments to layers.\n",
      "WARNING:tensorflow:From /home/avinashc/anaconda3/lib/python3.7/site-packages/tensorflow_core/python/ops/nn_impl.py:183: where (from tensorflow.python.ops.array_ops) is deprecated and will be removed in a future version.\n",
      "Instructions for updating:\n",
      "Use tf.where in 2.0, which has the same broadcast rule as np.where\n",
      "Model: \"sequential\"\n",
      "_________________________________________________________________\n",
      "Layer (type)                 Output Shape              Param #   \n",
      "=================================================================\n",
      "embedding (Embedding)        (None, 200, 50)           20000000  \n",
      "_________________________________________________________________\n",
      "lstm (LSTM)                  (None, 100)               60400     \n",
      "_________________________________________________________________\n",
      "dense (Dense)                (None, 1)                 101       \n",
      "=================================================================\n",
      "Total params: 20,060,501\n",
      "Trainable params: 20,060,501\n",
      "Non-trainable params: 0\n",
      "_________________________________________________________________\n",
      "None\n",
      "Train on 288 samples, validate on 96 samples\n",
      "Epoch 1/35\n",
      "288/288 [==============================] - 10s 34ms/sample - loss: 0.6930 - acc: 0.5208 - val_loss: 0.6935 - val_acc: 0.5104\n",
      "Epoch 2/35\n",
      "288/288 [==============================] - 8s 28ms/sample - loss: 0.6927 - acc: 0.5312 - val_loss: 0.6934 - val_acc: 0.4688\n",
      "Epoch 3/35\n",
      "288/288 [==============================] - 8s 28ms/sample - loss: 0.6926 - acc: 0.5729 - val_loss: 0.6934 - val_acc: 0.4688\n",
      "Epoch 4/35\n",
      "288/288 [==============================] - 8s 28ms/sample - loss: 0.6919 - acc: 0.6076 - val_loss: 0.6933 - val_acc: 0.4583\n",
      "Epoch 5/35\n",
      "288/288 [==============================] - 8s 28ms/sample - loss: 0.6916 - acc: 0.6285 - val_loss: 0.6933 - val_acc: 0.4688\n",
      "Epoch 6/35\n",
      "288/288 [==============================] - 8s 28ms/sample - loss: 0.6916 - acc: 0.5972 - val_loss: 0.6933 - val_acc: 0.5000\n",
      "Epoch 7/35\n",
      "288/288 [==============================] - 8s 28ms/sample - loss: 0.6916 - acc: 0.6146 - val_loss: 0.6932 - val_acc: 0.4896\n",
      "Epoch 8/35\n",
      "288/288 [==============================] - 8s 28ms/sample - loss: 0.6908 - acc: 0.6493 - val_loss: 0.6932 - val_acc: 0.4792\n",
      "Epoch 9/35\n",
      "288/288 [==============================] - 8s 28ms/sample - loss: 0.6905 - acc: 0.6389 - val_loss: 0.6932 - val_acc: 0.4792\n",
      "Epoch 10/35\n",
      "288/288 [==============================] - 8s 28ms/sample - loss: 0.6902 - acc: 0.6285 - val_loss: 0.6931 - val_acc: 0.4896\n",
      "Epoch 11/35\n",
      "288/288 [==============================] - 8s 28ms/sample - loss: 0.6896 - acc: 0.6319 - val_loss: 0.6931 - val_acc: 0.5104\n",
      "Epoch 12/35\n",
      "288/288 [==============================] - 8s 28ms/sample - loss: 0.6890 - acc: 0.6597 - val_loss: 0.6930 - val_acc: 0.5000\n",
      "Epoch 13/35\n",
      "288/288 [==============================] - 8s 28ms/sample - loss: 0.6880 - acc: 0.6562 - val_loss: 0.6930 - val_acc: 0.5104\n",
      "Epoch 14/35\n",
      "288/288 [==============================] - 8s 28ms/sample - loss: 0.6874 - acc: 0.6806 - val_loss: 0.6930 - val_acc: 0.5208\n",
      "Epoch 15/35\n",
      "288/288 [==============================] - 8s 28ms/sample - loss: 0.6869 - acc: 0.6562 - val_loss: 0.6929 - val_acc: 0.5208\n",
      "Epoch 16/35\n",
      "288/288 [==============================] - 8s 28ms/sample - loss: 0.6848 - acc: 0.6875 - val_loss: 0.6928 - val_acc: 0.5312\n",
      "Epoch 17/35\n",
      "288/288 [==============================] - 8s 28ms/sample - loss: 0.6829 - acc: 0.6979 - val_loss: 0.6927 - val_acc: 0.5208\n",
      "Epoch 18/35\n",
      "288/288 [==============================] - 8s 28ms/sample - loss: 0.6804 - acc: 0.7083 - val_loss: 0.6925 - val_acc: 0.5312\n",
      "Epoch 19/35\n",
      "288/288 [==============================] - 8s 28ms/sample - loss: 0.6767 - acc: 0.7396 - val_loss: 0.6922 - val_acc: 0.5104\n",
      "Epoch 20/35\n",
      "288/288 [==============================] - 8s 28ms/sample - loss: 0.6694 - acc: 0.7049 - val_loss: 0.6914 - val_acc: 0.5104\n",
      "Epoch 21/35\n",
      "288/288 [==============================] - 8s 28ms/sample - loss: 0.6607 - acc: 0.6319 - val_loss: 0.6893 - val_acc: 0.5104\n",
      "Epoch 22/35\n",
      "288/288 [==============================] - 8s 28ms/sample - loss: 0.6456 - acc: 0.6042 - val_loss: 0.6878 - val_acc: 0.5000\n",
      "Epoch 23/35\n",
      "288/288 [==============================] - 8s 28ms/sample - loss: 0.6338 - acc: 0.7361 - val_loss: 0.6873 - val_acc: 0.5417\n",
      "Epoch 24/35\n",
      "288/288 [==============================] - 8s 28ms/sample - loss: 0.6178 - acc: 0.7986 - val_loss: 0.6869 - val_acc: 0.4792\n",
      "Epoch 25/35\n",
      "288/288 [==============================] - 8s 28ms/sample - loss: 0.5837 - acc: 0.8299 - val_loss: 0.6875 - val_acc: 0.5104\n",
      "Epoch 26/35\n",
      "288/288 [==============================] - 8s 28ms/sample - loss: 0.5840 - acc: 0.8090 - val_loss: 0.6890 - val_acc: 0.5625\n",
      "Epoch 27/35\n",
      "288/288 [==============================] - 8s 28ms/sample - loss: 0.5551 - acc: 0.8785 - val_loss: 0.6889 - val_acc: 0.5208\n",
      "Epoch 28/35\n",
      "288/288 [==============================] - 8s 28ms/sample - loss: 0.5330 - acc: 0.8125 - val_loss: 0.6907 - val_acc: 0.5208\n",
      "Epoch 29/35\n",
      "288/288 [==============================] - 8s 28ms/sample - loss: 0.5241 - acc: 0.8646 - val_loss: 0.6931 - val_acc: 0.5312\n",
      "Epoch 30/35\n",
      "288/288 [==============================] - 8s 28ms/sample - loss: 0.5036 - acc: 0.8715 - val_loss: 0.7056 - val_acc: 0.4792\n",
      "Epoch 31/35\n",
      "288/288 [==============================] - 8s 28ms/sample - loss: 0.4542 - acc: 0.8611 - val_loss: 0.7178 - val_acc: 0.5000\n",
      "Epoch 32/35\n",
      "288/288 [==============================] - 8s 28ms/sample - loss: 0.4274 - acc: 0.8264 - val_loss: 0.7160 - val_acc: 0.5312\n",
      "Epoch 33/35\n",
      "288/288 [==============================] - 8s 28ms/sample - loss: 0.3995 - acc: 0.9236 - val_loss: 0.7161 - val_acc: 0.5417\n",
      "Epoch 34/35\n",
      "288/288 [==============================] - 8s 28ms/sample - loss: 0.3672 - acc: 0.9236 - val_loss: 0.7992 - val_acc: 0.4479\n",
      "Epoch 35/35\n",
      "288/288 [==============================] - 8s 28ms/sample - loss: 0.3213 - acc: 0.9271 - val_loss: 0.7530 - val_acc: 0.5625\n",
      "96/96 [==============================] - 0s 4ms/sample - loss: 0.7530 - acc: 0.5625\n",
      "Accuracy: 56.25%\n",
      "96/96 [==============================] - 0s 4ms/sample - loss: 0.7535 - acc: 0.5521\n",
      "Accuracy on Test Set: 55.21%\n",
      "[[26 26]\n",
      " [17 27]]\n"
     ]
    }
   ],
   "source": [
    "hyperparameter = {\n",
    "            'MAX_ARTICLE_LENGTH': 200,\n",
    "            'EMBEDDING_VECTOR_LENGTH': 50,\n",
    "            'EMBEDDING_VOCAB_SIZE': 400000,\n",
    "            'LSTM_MEMORY_SIZE': 100,\n",
    "            'NN_LOSS_FUNCTION': 'binary_crossentropy',\n",
    "            'NN_EPOCHS': 35,\n",
    "            'USE_GLOVE_EMBEDDINGS': False,\n",
    "            'NN_BATCH_SIZE': 50,\n",
    "            'DATASET': 'fakeNewsDataset',\n",
    "            'DROPOUT_RATE': 0.5,\n",
    "            'NN_ARCH_TYPE': '1layerLSTM',\n",
    "        }\n",
    "model_execute(hyperparameter)"
   ]
  },
  {
   "cell_type": "code",
   "execution_count": 23,
   "metadata": {},
   "outputs": [
    {
     "name": "stdout",
     "output_type": "stream",
     "text": [
      "Reading dataset\n",
      "Loading Glove embedding\n",
      "Loaded Glove embedding\n",
      "Finished reading dataset\n",
      "Model: \"sequential\"\n",
      "_________________________________________________________________\n",
      "Layer (type)                 Output Shape              Param #   \n",
      "=================================================================\n",
      "embedding (Embedding)        (None, 200, 50)           20000000  \n",
      "_________________________________________________________________\n",
      "lstm (LSTM)                  (None, 200, 100)          60400     \n",
      "_________________________________________________________________\n",
      "lstm_1 (LSTM)                (None, 100)               80400     \n",
      "_________________________________________________________________\n",
      "dense (Dense)                (None, 1)                 101       \n",
      "=================================================================\n",
      "Total params: 20,140,901\n",
      "Trainable params: 20,140,901\n",
      "Non-trainable params: 0\n",
      "_________________________________________________________________\n",
      "None\n",
      "Train on 288 samples, validate on 96 samples\n",
      "Epoch 1/25\n",
      "288/288 [==============================] - 14s 50ms/sample - loss: 0.6933 - acc: 0.5000 - val_loss: 0.6931 - val_acc: 0.5208\n",
      "Epoch 2/25\n",
      "288/288 [==============================] - 12s 43ms/sample - loss: 0.6930 - acc: 0.5000 - val_loss: 0.6931 - val_acc: 0.5000\n",
      "Epoch 3/25\n",
      "288/288 [==============================] - 12s 43ms/sample - loss: 0.6929 - acc: 0.5590 - val_loss: 0.6930 - val_acc: 0.5208\n",
      "Epoch 4/25\n",
      "288/288 [==============================] - 12s 43ms/sample - loss: 0.6929 - acc: 0.5312 - val_loss: 0.6929 - val_acc: 0.5729\n",
      "Epoch 5/25\n",
      "288/288 [==============================] - 12s 43ms/sample - loss: 0.6926 - acc: 0.5382 - val_loss: 0.6929 - val_acc: 0.5729\n",
      "Epoch 6/25\n",
      "288/288 [==============================] - 12s 43ms/sample - loss: 0.6924 - acc: 0.6076 - val_loss: 0.6929 - val_acc: 0.5729\n",
      "Epoch 7/25\n",
      "288/288 [==============================] - 12s 43ms/sample - loss: 0.6923 - acc: 0.5799 - val_loss: 0.6928 - val_acc: 0.5208\n",
      "Epoch 8/25\n",
      "288/288 [==============================] - 13s 44ms/sample - loss: 0.6922 - acc: 0.5694 - val_loss: 0.6927 - val_acc: 0.5208\n",
      "Epoch 9/25\n",
      "288/288 [==============================] - 12s 43ms/sample - loss: 0.6920 - acc: 0.5625 - val_loss: 0.6927 - val_acc: 0.5208\n",
      "Epoch 10/25\n",
      "288/288 [==============================] - 12s 43ms/sample - loss: 0.6916 - acc: 0.5764 - val_loss: 0.6926 - val_acc: 0.5208\n",
      "Epoch 11/25\n",
      "288/288 [==============================] - 12s 43ms/sample - loss: 0.6913 - acc: 0.5833 - val_loss: 0.6925 - val_acc: 0.5208\n",
      "Epoch 12/25\n",
      "288/288 [==============================] - 12s 43ms/sample - loss: 0.6908 - acc: 0.5451 - val_loss: 0.6924 - val_acc: 0.5208\n",
      "Epoch 13/25\n",
      "288/288 [==============================] - 12s 43ms/sample - loss: 0.6902 - acc: 0.5590 - val_loss: 0.6922 - val_acc: 0.5208\n",
      "Epoch 14/25\n",
      "288/288 [==============================] - 12s 43ms/sample - loss: 0.6896 - acc: 0.6042 - val_loss: 0.6921 - val_acc: 0.5208\n",
      "Epoch 15/25\n",
      "288/288 [==============================] - 12s 43ms/sample - loss: 0.6879 - acc: 0.5799 - val_loss: 0.6918 - val_acc: 0.5208\n",
      "Epoch 16/25\n",
      "288/288 [==============================] - 12s 43ms/sample - loss: 0.6863 - acc: 0.5868 - val_loss: 0.6915 - val_acc: 0.5208\n",
      "Epoch 17/25\n",
      "288/288 [==============================] - 12s 43ms/sample - loss: 0.6838 - acc: 0.5625 - val_loss: 0.6911 - val_acc: 0.5208\n",
      "Epoch 18/25\n",
      "288/288 [==============================] - 12s 43ms/sample - loss: 0.6805 - acc: 0.5868 - val_loss: 0.6904 - val_acc: 0.5208\n",
      "Epoch 19/25\n",
      "288/288 [==============================] - 12s 43ms/sample - loss: 0.6699 - acc: 0.6389 - val_loss: 0.6892 - val_acc: 0.5104\n",
      "Epoch 20/25\n",
      "288/288 [==============================] - 12s 43ms/sample - loss: 0.6485 - acc: 0.6493 - val_loss: 0.6864 - val_acc: 0.5208\n",
      "Epoch 21/25\n",
      "288/288 [==============================] - 12s 43ms/sample - loss: 0.6094 - acc: 0.6389 - val_loss: 0.6744 - val_acc: 0.5729\n",
      "Epoch 22/25\n",
      "288/288 [==============================] - 13s 43ms/sample - loss: 0.5697 - acc: 0.8056 - val_loss: 0.6705 - val_acc: 0.5521\n",
      "Epoch 23/25\n",
      "288/288 [==============================] - 12s 43ms/sample - loss: 0.5167 - acc: 0.7674 - val_loss: 0.6750 - val_acc: 0.5625\n",
      "Epoch 24/25\n",
      "288/288 [==============================] - 12s 43ms/sample - loss: 0.4714 - acc: 0.8264 - val_loss: 0.6881 - val_acc: 0.5417\n",
      "Epoch 25/25\n",
      "288/288 [==============================] - 12s 43ms/sample - loss: 0.4097 - acc: 0.8576 - val_loss: 0.7273 - val_acc: 0.5417\n",
      "96/96 [==============================] - 1s 9ms/sample - loss: 0.7273 - acc: 0.5417\n",
      "Accuracy: 54.17%\n",
      "96/96 [==============================] - 1s 9ms/sample - loss: 0.7399 - acc: 0.5521\n",
      "Accuracy on Test Set: 55.21%\n",
      "[[21 31]\n",
      " [12 32]]\n"
     ]
    }
   ],
   "source": [
    "hyperparameter = {\n",
    "            'MAX_ARTICLE_LENGTH': 200,\n",
    "            'EMBEDDING_VECTOR_LENGTH': 50,\n",
    "            'EMBEDDING_VOCAB_SIZE': 400000,\n",
    "            'LSTM_MEMORY_SIZE': 100,\n",
    "            'NN_LOSS_FUNCTION': 'binary_crossentropy',\n",
    "            'NN_EPOCHS': 25,\n",
    "            'USE_GLOVE_EMBEDDINGS': False,\n",
    "            'NN_BATCH_SIZE': 50,\n",
    "            'DATASET': 'fakeNewsDataset',\n",
    "            'DROPOUT_RATE': 0.5,\n",
    "            'NN_ARCH_TYPE': '2layerLSTM',\n",
    "        }\n",
    "model_execute(hyperparameter)"
   ]
  },
  {
   "cell_type": "code",
   "execution_count": 24,
   "metadata": {},
   "outputs": [
    {
     "name": "stdout",
     "output_type": "stream",
     "text": [
      "Reading dataset\n",
      "Loading Glove embedding\n",
      "Loaded Glove embedding\n",
      "Finished reading dataset\n",
      "Model: \"sequential\"\n",
      "_________________________________________________________________\n",
      "Layer (type)                 Output Shape              Param #   \n",
      "=================================================================\n",
      "embedding (Embedding)        (None, 200, 50)           20000000  \n",
      "_________________________________________________________________\n",
      "gru (GRU)                    (None, 100)               45300     \n",
      "_________________________________________________________________\n",
      "dense (Dense)                (None, 1)                 101       \n",
      "=================================================================\n",
      "Total params: 20,045,401\n",
      "Trainable params: 20,045,401\n",
      "Non-trainable params: 0\n",
      "_________________________________________________________________\n",
      "None\n",
      "Train on 288 samples, validate on 96 samples\n",
      "Epoch 1/45\n",
      "288/288 [==============================] - 8s 27ms/sample - loss: 0.6927 - acc: 0.5035 - val_loss: 0.6948 - val_acc: 0.3958\n",
      "Epoch 2/45\n",
      "288/288 [==============================] - 7s 25ms/sample - loss: 0.6931 - acc: 0.5139 - val_loss: 0.6947 - val_acc: 0.3750\n",
      "Epoch 3/45\n",
      "288/288 [==============================] - 7s 26ms/sample - loss: 0.6937 - acc: 0.5139 - val_loss: 0.6947 - val_acc: 0.3958\n",
      "Epoch 4/45\n",
      "288/288 [==============================] - 7s 25ms/sample - loss: 0.6927 - acc: 0.5139 - val_loss: 0.6946 - val_acc: 0.4167\n",
      "Epoch 5/45\n",
      "288/288 [==============================] - 7s 26ms/sample - loss: 0.6917 - acc: 0.5694 - val_loss: 0.6946 - val_acc: 0.4375\n",
      "Epoch 6/45\n",
      "288/288 [==============================] - 7s 26ms/sample - loss: 0.6918 - acc: 0.5278 - val_loss: 0.6946 - val_acc: 0.4479\n",
      "Epoch 7/45\n",
      "288/288 [==============================] - 7s 26ms/sample - loss: 0.6914 - acc: 0.5660 - val_loss: 0.6946 - val_acc: 0.4688\n",
      "Epoch 8/45\n",
      "288/288 [==============================] - 7s 26ms/sample - loss: 0.6910 - acc: 0.5868 - val_loss: 0.6945 - val_acc: 0.4688\n",
      "Epoch 9/45\n",
      "288/288 [==============================] - 7s 26ms/sample - loss: 0.6905 - acc: 0.5903 - val_loss: 0.6945 - val_acc: 0.4583\n",
      "Epoch 10/45\n",
      "288/288 [==============================] - 7s 26ms/sample - loss: 0.6897 - acc: 0.5903 - val_loss: 0.6945 - val_acc: 0.4688\n",
      "Epoch 11/45\n",
      "288/288 [==============================] - 7s 26ms/sample - loss: 0.6892 - acc: 0.6076 - val_loss: 0.6944 - val_acc: 0.4792\n",
      "Epoch 12/45\n",
      "288/288 [==============================] - 7s 25ms/sample - loss: 0.6886 - acc: 0.6632 - val_loss: 0.6945 - val_acc: 0.4792\n",
      "Epoch 13/45\n",
      "288/288 [==============================] - 7s 26ms/sample - loss: 0.6884 - acc: 0.6493 - val_loss: 0.6945 - val_acc: 0.4896\n",
      "Epoch 14/45\n",
      "288/288 [==============================] - 7s 26ms/sample - loss: 0.6875 - acc: 0.6806 - val_loss: 0.6945 - val_acc: 0.4896\n",
      "Epoch 15/45\n",
      "288/288 [==============================] - 7s 26ms/sample - loss: 0.6867 - acc: 0.7118 - val_loss: 0.6944 - val_acc: 0.5000\n",
      "Epoch 16/45\n",
      "288/288 [==============================] - 7s 26ms/sample - loss: 0.6865 - acc: 0.6736 - val_loss: 0.6944 - val_acc: 0.5104\n",
      "Epoch 17/45\n",
      "288/288 [==============================] - 7s 26ms/sample - loss: 0.6859 - acc: 0.6944 - val_loss: 0.6944 - val_acc: 0.5208\n",
      "Epoch 18/45\n",
      "288/288 [==============================] - 7s 25ms/sample - loss: 0.6842 - acc: 0.6944 - val_loss: 0.6944 - val_acc: 0.5208\n",
      "Epoch 19/45\n",
      "288/288 [==============================] - 7s 25ms/sample - loss: 0.6827 - acc: 0.7500 - val_loss: 0.6944 - val_acc: 0.5104\n",
      "Epoch 20/45\n",
      "288/288 [==============================] - 7s 26ms/sample - loss: 0.6812 - acc: 0.7674 - val_loss: 0.6943 - val_acc: 0.5208\n",
      "Epoch 21/45\n",
      "288/288 [==============================] - 7s 26ms/sample - loss: 0.6796 - acc: 0.7917 - val_loss: 0.6943 - val_acc: 0.5312\n",
      "Epoch 22/45\n",
      "288/288 [==============================] - 7s 25ms/sample - loss: 0.6779 - acc: 0.7535 - val_loss: 0.6942 - val_acc: 0.5417\n",
      "Epoch 23/45\n",
      "288/288 [==============================] - 7s 26ms/sample - loss: 0.6760 - acc: 0.8056 - val_loss: 0.6942 - val_acc: 0.5417\n",
      "Epoch 24/45\n",
      "288/288 [==============================] - 7s 26ms/sample - loss: 0.6742 - acc: 0.8021 - val_loss: 0.6941 - val_acc: 0.5417\n",
      "Epoch 25/45\n",
      "288/288 [==============================] - 7s 25ms/sample - loss: 0.6713 - acc: 0.8333 - val_loss: 0.6941 - val_acc: 0.5417\n",
      "Epoch 26/45\n",
      "288/288 [==============================] - 7s 25ms/sample - loss: 0.6685 - acc: 0.8125 - val_loss: 0.6940 - val_acc: 0.5521\n",
      "Epoch 27/45\n",
      "288/288 [==============================] - 7s 25ms/sample - loss: 0.6635 - acc: 0.8507 - val_loss: 0.6938 - val_acc: 0.5625\n",
      "Epoch 28/45\n",
      "288/288 [==============================] - 7s 25ms/sample - loss: 0.6588 - acc: 0.8472 - val_loss: 0.6936 - val_acc: 0.5833\n",
      "Epoch 29/45\n",
      "288/288 [==============================] - 7s 25ms/sample - loss: 0.6522 - acc: 0.8507 - val_loss: 0.6933 - val_acc: 0.5833\n",
      "Epoch 30/45\n",
      "288/288 [==============================] - 7s 25ms/sample - loss: 0.6432 - acc: 0.8646 - val_loss: 0.6928 - val_acc: 0.5729\n",
      "Epoch 31/45\n",
      "288/288 [==============================] - 7s 25ms/sample - loss: 0.6334 - acc: 0.8715 - val_loss: 0.6921 - val_acc: 0.6042\n",
      "Epoch 32/45\n",
      "288/288 [==============================] - 7s 25ms/sample - loss: 0.6134 - acc: 0.8785 - val_loss: 0.6908 - val_acc: 0.5938\n",
      "Epoch 33/45\n",
      "288/288 [==============================] - 7s 25ms/sample - loss: 0.5809 - acc: 0.8681 - val_loss: 0.6883 - val_acc: 0.5729\n",
      "Epoch 34/45\n",
      "288/288 [==============================] - 7s 25ms/sample - loss: 0.5371 - acc: 0.8889 - val_loss: 0.6879 - val_acc: 0.5833\n",
      "Epoch 35/45\n",
      "288/288 [==============================] - 7s 25ms/sample - loss: 0.5034 - acc: 0.9236 - val_loss: 0.6894 - val_acc: 0.5729\n",
      "Epoch 36/45\n",
      "288/288 [==============================] - 7s 26ms/sample - loss: 0.4764 - acc: 0.9132 - val_loss: 0.6994 - val_acc: 0.5729\n",
      "Epoch 37/45\n",
      "288/288 [==============================] - 7s 26ms/sample - loss: 0.4722 - acc: 0.9132 - val_loss: 0.6930 - val_acc: 0.5729\n",
      "Epoch 38/45\n",
      "288/288 [==============================] - 7s 26ms/sample - loss: 0.4330 - acc: 0.9514 - val_loss: 0.6970 - val_acc: 0.5521\n",
      "Epoch 39/45\n",
      "288/288 [==============================] - 7s 26ms/sample - loss: 0.3936 - acc: 0.9479 - val_loss: 0.7261 - val_acc: 0.5938\n",
      "Epoch 40/45\n",
      "288/288 [==============================] - 7s 26ms/sample - loss: 0.3360 - acc: 0.9306 - val_loss: 0.7770 - val_acc: 0.5625\n",
      "Epoch 41/45\n",
      "288/288 [==============================] - 7s 26ms/sample - loss: 0.3763 - acc: 0.9028 - val_loss: 0.7304 - val_acc: 0.5521\n",
      "Epoch 42/45\n",
      "288/288 [==============================] - 7s 26ms/sample - loss: 0.3154 - acc: 0.9653 - val_loss: 0.7401 - val_acc: 0.5625\n",
      "Epoch 43/45\n",
      "288/288 [==============================] - 7s 26ms/sample - loss: 0.2707 - acc: 0.9757 - val_loss: 0.7984 - val_acc: 0.5521\n",
      "Epoch 44/45\n",
      "288/288 [==============================] - 7s 25ms/sample - loss: 0.2556 - acc: 0.9375 - val_loss: 0.8667 - val_acc: 0.5312\n",
      "Epoch 45/45\n",
      "288/288 [==============================] - 7s 25ms/sample - loss: 0.2296 - acc: 0.9583 - val_loss: 0.8560 - val_acc: 0.5417\n",
      "96/96 [==============================] - 0s 3ms/sample - loss: 0.8560 - acc: 0.5417\n",
      "Accuracy: 54.17%\n",
      "96/96 [==============================] - 0s 3ms/sample - loss: 0.8658 - acc: 0.5417\n",
      "Accuracy on Test Set: 54.17%\n",
      "[[28 24]\n",
      " [20 24]]\n"
     ]
    }
   ],
   "source": [
    "hyperparameter = {\n",
    "            'MAX_ARTICLE_LENGTH': 200,\n",
    "            'EMBEDDING_VECTOR_LENGTH': 50,\n",
    "            'EMBEDDING_VOCAB_SIZE': 400000,\n",
    "            'LSTM_MEMORY_SIZE': 100,\n",
    "            'NN_LOSS_FUNCTION': 'binary_crossentropy',\n",
    "            'NN_EPOCHS': 45,\n",
    "            'USE_GLOVE_EMBEDDINGS': False,\n",
    "            'NN_BATCH_SIZE': 50,\n",
    "            'DATASET': 'fakeNewsDataset',\n",
    "            'DROPOUT_RATE': 0.5,\n",
    "            'NN_ARCH_TYPE': '1layerGRU',\n",
    "        }\n",
    "model_execute(hyperparameter)"
   ]
  },
  {
   "cell_type": "markdown",
   "metadata": {},
   "source": [
    "**BERT transformers**"
   ]
  },
  {
   "cell_type": "code",
   "execution_count": 9,
   "metadata": {},
   "outputs": [],
   "source": [
    "from simpletransformers.classification import ClassificationModel\n",
    "\"Adapted from https://towardsdatascience.com/\\\n",
    "simple-transformers-introducing-the-easiest-bert-roberta-xlnet-and-xlm-library-58bf8c59b2a3\"\n",
    "train_args = {\n",
    "    'evaluate_during_training': True,\n",
    "    'logging_steps': 100,\n",
    "    'num_train_epochs': 2,\n",
    "    'evaluate_during_training_steps': 100,\n",
    "    'save_eval_checkpoints': False,\n",
    "    'train_batch_size': 32,\n",
    "    'eval_batch_size': 64,\n",
    "    'overwrite_output_dir': True,\n",
    "    'fp16': False,\n",
    "    'wandb_project': \"visualization-demo\"\n",
    "}"
   ]
  },
  {
   "cell_type": "code",
   "execution_count": 10,
   "metadata": {},
   "outputs": [],
   "source": [
    "\"Adapted from https://towardsdatascience.com/\\\n",
    "simple-transformers-introducing-the-easiest-bert-roberta-xlnet-and-xlm-library-58bf8c59b2a3\"\n",
    "model_BERT = ClassificationModel('bert', 'bert-base-cased', num_labels=2, use_cuda=False, cuda_device=0, args=train_args)"
   ]
  },
  {
   "cell_type": "code",
   "execution_count": 14,
   "metadata": {},
   "outputs": [],
   "source": [
    "#### Read the dataset into a dataframe for further processing ####\n",
    "def bert_read_dataset(dataset_name):\n",
    "    \n",
    "    def remove_numbers(in_str):\n",
    "        return re.sub(r'[0-9]+', '', in_str)\n",
    "    \n",
    "    print(\"Reading dataset\")\n",
    "    result_data_list = []\n",
    "    data_dir = DATASET_PATH\n",
    "    for news_type in ['fake', 'legit']:\n",
    "        folder = '%s/%s/%s' % (data_dir, dataset_name, news_type)\n",
    "        for fname in os.listdir(folder):\n",
    "            result_data = {}\n",
    "            result_data['dataset_name'] = dataset_name\n",
    "            result_data['news_type'] = news_type\n",
    "            if news_type == 'fake':\n",
    "                result_data['is_fake'] = 1\n",
    "            else:\n",
    "                result_data['is_fake'] = 0\n",
    "            if dataset_name == 'fakeNewsDataset':\n",
    "                result_data['news_category'] = remove_numbers(fname.split('.')[0])\n",
    "            result_data['file_name'] = fname\n",
    "            filepath = os.path.join(folder, fname)\n",
    "            with open(filepath, 'r', encoding=\"utf8\") as f:\n",
    "                file_data = f.read().split('\\n')\n",
    "                # Some articles don't have a headline, but only article body.\n",
    "                if len(file_data) > 1:\n",
    "                    news_content_data = ' '.join(file_data[2:])\n",
    "                    result_data['news_headline'] = file_data[0]\n",
    "                else:\n",
    "                    news_content_data = file_data[0]\n",
    "                    result_data['news_headline'] = ''\n",
    "                result_data['news_content'] = news_content_data\n",
    "                result_data['news_all'] = ' '.join(file_data[0:])\n",
    "                result_data_list.append(result_data)\n",
    "                \n",
    "    df = pd.DataFrame(result_data_list)\n",
    "    \n",
    "    df['news_all_clean'] = df['news_all'].apply(lambda a: cleanArticle(a))\n",
    "    \n",
    "    X_train, X_test, y_train, y_test = train_test_split(df.drop(['is_fake','news_type','file_name'],axis = 1), \n",
    "                                                        df['is_fake'], \n",
    "                                                        test_size=.2, random_state=RANDOM_SEED)\n",
    "    X_train.reset_index(drop=True),\\\n",
    "            y_train.reset_index(drop=True), X_test.reset_index(drop=True), y_test.reset_index(drop=True)\n",
    "    print(\"Finished reading dataset\")\n",
    "    \n",
    "    train_df_clean = pd.concat([X_train, y_train], axis=1)\n",
    "    train_df_clean = train_df_clean.drop(['dataset_name', 'news_headline', 'news_content', 'news_all'], axis=1)\n",
    "    train_df_clean = train_df_clean.drop(['news_category'], axis=1)\n",
    "    print(\"Shape of training data set: \", train_df_clean.shape)\n",
    "    print(\"View of data set: \", train_df_clean.head())\n",
    "\n",
    "    eval_df_clean = pd.concat([X_test, y_test], axis=1)\n",
    "    eval_df_clean = eval_df_clean.drop(['dataset_name', 'news_headline', 'news_content', 'news_all'], axis=1)\n",
    "    eval_df_clean = eval_df_clean.drop(['news_category'], axis=1)\n",
    "    print(\"Shape of Eval data set: \", eval_df_clean.shape)\n",
    "\n",
    "    model_BERT.train_model(train_df_clean, eval_df=eval_df_clean)\n",
    "    result, model_outputs, wrong_predictions = model_BERT.eval_model(eval_df_clean, acc=accuracy_score)\n",
    "    print(result)"
   ]
  },
  {
   "cell_type": "code",
   "execution_count": 12,
   "metadata": {},
   "outputs": [],
   "source": [
    "def bert_model(hyperparameter_dict):\n",
    "\n",
    "    np.random.seed(RANDOM_SEED)\n",
    "    for k, v in hyperparameter_dict.items():\n",
    "        globals()[k] = v\n",
    "    bert_read_dataset(DATASET)"
   ]
  },
  {
   "cell_type": "code",
   "execution_count": 13,
   "metadata": {},
   "outputs": [
    {
     "name": "stdout",
     "output_type": "stream",
     "text": [
      "Reading dataset\n",
      "Finished reading dataset\n",
      "Shape of training data set:  (400, 2)\n",
      "View of data set:                                          news_all_clean  is_fake\n",
      "477  lady gaga announces netflix documentary talks ...        0\n",
      "439  this is what brad pitt has been texting jennif...        0\n",
      "8    caitlyn jenner looks to new girlfriend for sup...        1\n",
      "96   girl fight kanye west confronts anna wintour o...        1\n",
      "232  caitlyn jenners memoir reportedly lands movie ...        1\n",
      "Shape of Eval data set:  (100, 2)\n"
     ]
    },
    {
     "data": {
      "application/vnd.jupyter.widget-view+json": {
       "model_id": "a8ff823c76bf4d70bca0a507451a0989",
       "version_major": 2,
       "version_minor": 0
      },
      "text/plain": [
       "HBox(children=(IntProgress(value=0, max=400), HTML(value='')))"
      ]
     },
     "metadata": {},
     "output_type": "display_data"
    },
    {
     "name": "stdout",
     "output_type": "stream",
     "text": [
      "\n"
     ]
    },
    {
     "data": {
      "application/vnd.jupyter.widget-view+json": {
       "model_id": "c0fcc6662c504754be0fead6b6899e92",
       "version_major": 2,
       "version_minor": 0
      },
      "text/plain": [
       "HBox(children=(IntProgress(value=0, description='Epoch', max=2, style=ProgressStyle(description_width='initial…"
      ]
     },
     "metadata": {},
     "output_type": "display_data"
    },
    {
     "data": {
      "application/vnd.jupyter.widget-view+json": {
       "model_id": "1f53063714a046519bc877982561b106",
       "version_major": 2,
       "version_minor": 0
      },
      "text/plain": [
       "HBox(children=(IntProgress(value=0, description='Current iteration', max=13, style=ProgressStyle(description_w…"
      ]
     },
     "metadata": {},
     "output_type": "display_data"
    },
    {
     "name": "stdout",
     "output_type": "stream",
     "text": [
      "Running loss: 0.677338\n"
     ]
    },
    {
     "data": {
      "application/vnd.jupyter.widget-view+json": {
       "model_id": "1278c408f76b44d5bea1a270faafeb12",
       "version_major": 2,
       "version_minor": 0
      },
      "text/plain": [
       "HBox(children=(IntProgress(value=0, description='Current iteration', max=13, style=ProgressStyle(description_w…"
      ]
     },
     "metadata": {},
     "output_type": "display_data"
    },
    {
     "name": "stdout",
     "output_type": "stream",
     "text": [
      "Running loss: 0.508778\n",
      "\n"
     ]
    },
    {
     "data": {
      "application/vnd.jupyter.widget-view+json": {
       "model_id": "0a57a9ec04d8406fa88be50f6d6fb112",
       "version_major": 2,
       "version_minor": 0
      },
      "text/plain": [
       "HBox(children=(IntProgress(value=0), HTML(value='')))"
      ]
     },
     "metadata": {},
     "output_type": "display_data"
    },
    {
     "name": "stdout",
     "output_type": "stream",
     "text": [
      "\n"
     ]
    },
    {
     "data": {
      "application/vnd.jupyter.widget-view+json": {
       "model_id": "acfee4571b2a4b8e995413bfa9857019",
       "version_major": 2,
       "version_minor": 0
      },
      "text/plain": [
       "HBox(children=(IntProgress(value=0, max=2), HTML(value='')))"
      ]
     },
     "metadata": {},
     "output_type": "display_data"
    },
    {
     "name": "stdout",
     "output_type": "stream",
     "text": [
      "\n",
      "{'mcc': 0.339556023699088, 'tp': 31, 'tn': 36, 'fp': 18, 'fn': 15, 'acc': 0.67, 'eval_loss': 0.5950743854045868}\n"
     ]
    }
   ],
   "source": [
    "hyperparameter = {\n",
    "            'MAX_ARTICLE_LENGTH': 500,\n",
    "            'EMBEDDING_VECTOR_LENGTH': 50,\n",
    "            'DATASET': 'celebrityDataset',\n",
    "        }\n",
    "bert_model(hyperparameter)"
   ]
  },
  {
   "cell_type": "code",
   "execution_count": 16,
   "metadata": {},
   "outputs": [
    {
     "name": "stdout",
     "output_type": "stream",
     "text": [
      "Reading dataset\n",
      "Finished reading dataset\n",
      "Shape of training data set:  (384, 2)\n",
      "View of data set:                                          news_all_clean  is_fake\n",
      "150  donald trumps win to the presidency causes fre...        1\n",
      "284  trumps pick for education could face unusually...        0\n",
      "26   macron and le pen fight for votes  anticipatin...        1\n",
      "362  girls who code closing computer science gender...        0\n",
      "179  the us supreme court has done the unthinkable ...        1\n",
      "Shape of Eval data set:  (96, 2)\n"
     ]
    },
    {
     "data": {
      "application/vnd.jupyter.widget-view+json": {
       "model_id": "195ae38950184344a2c710f10b765a74",
       "version_major": 2,
       "version_minor": 0
      },
      "text/plain": [
       "HBox(children=(IntProgress(value=0, max=384), HTML(value='')))"
      ]
     },
     "metadata": {},
     "output_type": "display_data"
    },
    {
     "name": "stdout",
     "output_type": "stream",
     "text": [
      "\n"
     ]
    },
    {
     "data": {
      "application/vnd.jupyter.widget-view+json": {
       "model_id": "e97c30a910754618a962c97a76669489",
       "version_major": 2,
       "version_minor": 0
      },
      "text/plain": [
       "HBox(children=(IntProgress(value=0, description='Epoch', max=2, style=ProgressStyle(description_width='initial…"
      ]
     },
     "metadata": {},
     "output_type": "display_data"
    },
    {
     "data": {
      "application/vnd.jupyter.widget-view+json": {
       "model_id": "af3fc0a58ba1467bae0e761c35795948",
       "version_major": 2,
       "version_minor": 0
      },
      "text/plain": [
       "HBox(children=(IntProgress(value=0, description='Current iteration', max=12, style=ProgressStyle(description_w…"
      ]
     },
     "metadata": {},
     "output_type": "display_data"
    },
    {
     "name": "stdout",
     "output_type": "stream",
     "text": [
      "Running loss: 0.543366\n"
     ]
    },
    {
     "data": {
      "application/vnd.jupyter.widget-view+json": {
       "model_id": "3d3065ad142e4ade870a889f6ea28534",
       "version_major": 2,
       "version_minor": 0
      },
      "text/plain": [
       "HBox(children=(IntProgress(value=0, description='Current iteration', max=12, style=ProgressStyle(description_w…"
      ]
     },
     "metadata": {},
     "output_type": "display_data"
    },
    {
     "name": "stdout",
     "output_type": "stream",
     "text": [
      "Running loss: 0.276190\n",
      "\n"
     ]
    },
    {
     "data": {
      "application/vnd.jupyter.widget-view+json": {
       "model_id": "4a9d1f708bde4bc7b99f81eac5772e38",
       "version_major": 2,
       "version_minor": 0
      },
      "text/plain": [
       "HBox(children=(IntProgress(value=0, max=96), HTML(value='')))"
      ]
     },
     "metadata": {},
     "output_type": "display_data"
    },
    {
     "name": "stdout",
     "output_type": "stream",
     "text": [
      "\n"
     ]
    },
    {
     "data": {
      "application/vnd.jupyter.widget-view+json": {
       "model_id": "dae9ff81ac9740a5ad0ca6434d426869",
       "version_major": 2,
       "version_minor": 0
      },
      "text/plain": [
       "HBox(children=(IntProgress(value=0, max=2), HTML(value='')))"
      ]
     },
     "metadata": {},
     "output_type": "display_data"
    },
    {
     "name": "stdout",
     "output_type": "stream",
     "text": [
      "\n",
      "{'mcc': 0.3046525455707007, 'tp': 26, 'tn': 37, 'fp': 15, 'fn': 18, 'acc': 0.65625, 'eval_loss': 0.6550406515598297}\n"
     ]
    }
   ],
   "source": [
    "hyperparameter = {\n",
    "            'MAX_ARTICLE_LENGTH': 200,\n",
    "            'EMBEDDING_VECTOR_LENGTH': 50,\n",
    "            'DATASET': 'fakeNewsDataset',\n",
    "        }\n",
    "bert_model(hyperparameter)"
   ]
  }
 ],
 "metadata": {
  "kernelspec": {
   "display_name": "Python 3",
   "language": "python",
   "name": "python3"
  },
  "language_info": {
   "codemirror_mode": {
    "name": "ipython",
    "version": 3
   },
   "file_extension": ".py",
   "mimetype": "text/x-python",
   "name": "python",
   "nbconvert_exporter": "python",
   "pygments_lexer": "ipython3",
   "version": "3.7.4"
  },
  "widgets": {
   "application/vnd.jupyter.widget-state+json": {
    "state": {
     "06f8916c37cf48e9b0dec8a46ce027f7": {
      "model_module": "@jupyter-widgets/base",
      "model_module_version": "1.2.0",
      "model_name": "LayoutModel",
      "state": {}
     },
     "08315852030944e1a6a979edcc4b7f50": {
      "model_module": "@jupyter-widgets/controls",
      "model_module_version": "1.5.0",
      "model_name": "DescriptionStyleModel",
      "state": {
       "description_width": ""
      }
     },
     "0875ea406bcb4acb9e9bbd2573f91efe": {
      "model_module": "@jupyter-widgets/controls",
      "model_module_version": "1.5.0",
      "model_name": "HTMLModel",
      "state": {
       "layout": "IPY_MODEL_3cf5e844ee5c41df833882bd936e1168",
       "style": "IPY_MODEL_43543609d5524d1ba5f382459d827dd0",
       "value": " 100/100 [00:00&lt;00:00, 123.17it/s]"
      }
     },
     "0a57a9ec04d8406fa88be50f6d6fb112": {
      "model_module": "@jupyter-widgets/controls",
      "model_module_version": "1.5.0",
      "model_name": "HBoxModel",
      "state": {
       "children": [
        "IPY_MODEL_eb8002af60c7478791b6f2c5312ff8aa",
        "IPY_MODEL_0875ea406bcb4acb9e9bbd2573f91efe"
       ],
       "layout": "IPY_MODEL_2e292d2503a84172993964a0eac5fa48"
      }
     },
     "0bbae697d7d34c22ae4f786e3ffa763f": {
      "model_module": "@jupyter-widgets/base",
      "model_module_version": "1.2.0",
      "model_name": "LayoutModel",
      "state": {}
     },
     "0c1590e7f9a54fdfbd9af18ba86c4e52": {
      "model_module": "@jupyter-widgets/controls",
      "model_module_version": "1.5.0",
      "model_name": "HTMLModel",
      "state": {
       "layout": "IPY_MODEL_0f1be69725d745e6898881249828ac36",
       "style": "IPY_MODEL_153d326f4da04be3ac133516a9e14d40",
       "value": " 384/384 [00:00&lt;00:00, 448.31it/s]"
      }
     },
     "0c2aa7f040be47079b0d875a8fa65fde": {
      "model_module": "@jupyter-widgets/controls",
      "model_module_version": "1.5.0",
      "model_name": "DescriptionStyleModel",
      "state": {
       "description_width": ""
      }
     },
     "0c3aaa599d414dd29416c2ae955fda55": {
      "model_module": "@jupyter-widgets/base",
      "model_module_version": "1.2.0",
      "model_name": "LayoutModel",
      "state": {}
     },
     "0ef545ba173544af8ee78ccd93a2339d": {
      "model_module": "@jupyter-widgets/base",
      "model_module_version": "1.2.0",
      "model_name": "LayoutModel",
      "state": {}
     },
     "0f1be69725d745e6898881249828ac36": {
      "model_module": "@jupyter-widgets/base",
      "model_module_version": "1.2.0",
      "model_name": "LayoutModel",
      "state": {}
     },
     "0fab89d7db134d4f982b2cba39069363": {
      "model_module": "@jupyter-widgets/base",
      "model_module_version": "1.2.0",
      "model_name": "LayoutModel",
      "state": {}
     },
     "102484bfedd94c498e9d39bb7994a0bd": {
      "model_module": "@jupyter-widgets/base",
      "model_module_version": "1.2.0",
      "model_name": "LayoutModel",
      "state": {}
     },
     "1278c408f76b44d5bea1a270faafeb12": {
      "model_module": "@jupyter-widgets/controls",
      "model_module_version": "1.5.0",
      "model_name": "HBoxModel",
      "state": {
       "children": [
        "IPY_MODEL_a88fb4c2faa84a6786a6d5628db4c1ea",
        "IPY_MODEL_806fc7cc9a2b47e1b79957a3aba69986"
       ],
       "layout": "IPY_MODEL_bf086b01f2ed458c8de03fdc7f8f3e32"
      }
     },
     "1298b00c265d4c34b270670a1fa2005a": {
      "model_module": "@jupyter-widgets/controls",
      "model_module_version": "1.5.0",
      "model_name": "HTMLModel",
      "state": {
       "layout": "IPY_MODEL_9a2d740110ce453e98e1749866c4bbba",
       "style": "IPY_MODEL_0c2aa7f040be47079b0d875a8fa65fde",
       "value": " 12/12 [01:45&lt;00:00,  8.83s/it]"
      }
     },
     "13ef1eed41fb45f890032b25f26c123a": {
      "model_module": "@jupyter-widgets/base",
      "model_module_version": "1.2.0",
      "model_name": "LayoutModel",
      "state": {}
     },
     "153d326f4da04be3ac133516a9e14d40": {
      "model_module": "@jupyter-widgets/controls",
      "model_module_version": "1.5.0",
      "model_name": "DescriptionStyleModel",
      "state": {
       "description_width": ""
      }
     },
     "15798dd34af84c29ba6ead573ba0e871": {
      "model_module": "@jupyter-widgets/controls",
      "model_module_version": "1.5.0",
      "model_name": "HTMLModel",
      "state": {
       "layout": "IPY_MODEL_e701e040619f4cb5bf9c00f9a2db1655",
       "style": "IPY_MODEL_3e3217f3ec0742d6a9d2a64fe367028c",
       "value": " 2/2 [00:06&lt;00:00,  3.49s/it]"
      }
     },
     "15ff520ea82e4a4cafbaee3720e6140e": {
      "model_module": "@jupyter-widgets/controls",
      "model_module_version": "1.5.0",
      "model_name": "IntProgressModel",
      "state": {
       "bar_style": "success",
       "description": "Epoch: 100%",
       "layout": "IPY_MODEL_8ea1b4fd22734325bf6cc66ac780ca44",
       "max": 2,
       "style": "IPY_MODEL_8516d437b0a544c9a644818433823e37",
       "value": 2
      }
     },
     "166f7781b97a4d2aacd95ccbb26948cb": {
      "model_module": "@jupyter-widgets/controls",
      "model_module_version": "1.5.0",
      "model_name": "DescriptionStyleModel",
      "state": {
       "description_width": ""
      }
     },
     "195ae38950184344a2c710f10b765a74": {
      "model_module": "@jupyter-widgets/controls",
      "model_module_version": "1.5.0",
      "model_name": "HBoxModel",
      "state": {
       "children": [
        "IPY_MODEL_2f03cb80d9b84dd398eeff212c041582",
        "IPY_MODEL_0c1590e7f9a54fdfbd9af18ba86c4e52"
       ],
       "layout": "IPY_MODEL_e50003d822cb42efa6da872c50250c66"
      }
     },
     "1b1b8187a46841969cd1e4b1fb9c42fe": {
      "model_module": "@jupyter-widgets/controls",
      "model_module_version": "1.5.0",
      "model_name": "DescriptionStyleModel",
      "state": {
       "description_width": ""
      }
     },
     "1e35c3bfb7e8431c8cc77beab4b9d93c": {
      "model_module": "@jupyter-widgets/controls",
      "model_module_version": "1.5.0",
      "model_name": "DescriptionStyleModel",
      "state": {
       "description_width": ""
      }
     },
     "1f53063714a046519bc877982561b106": {
      "model_module": "@jupyter-widgets/controls",
      "model_module_version": "1.5.0",
      "model_name": "HBoxModel",
      "state": {
       "children": [
        "IPY_MODEL_df6b6e58cf3f4dc68b265f158690abfa",
        "IPY_MODEL_69b591467961448cadcd6eed3a1d4440"
       ],
       "layout": "IPY_MODEL_702e99e879854504b7ed17346d5d6d37"
      }
     },
     "21be48d040644232b88731b13b0da0ac": {
      "model_module": "@jupyter-widgets/base",
      "model_module_version": "1.2.0",
      "model_name": "LayoutModel",
      "state": {}
     },
     "225548c3363545e1a8438cccafd7200f": {
      "model_module": "@jupyter-widgets/controls",
      "model_module_version": "1.5.0",
      "model_name": "ProgressStyleModel",
      "state": {
       "description_width": "initial"
      }
     },
     "227ef397f42a4564a584ee2b6097c00f": {
      "model_module": "@jupyter-widgets/base",
      "model_module_version": "1.2.0",
      "model_name": "LayoutModel",
      "state": {}
     },
     "23c58bcac85548ed8ffe67c38fa8894c": {
      "model_module": "@jupyter-widgets/base",
      "model_module_version": "1.2.0",
      "model_name": "LayoutModel",
      "state": {}
     },
     "2443d88a696a4c7ba044c6e4fd91705d": {
      "model_module": "@jupyter-widgets/controls",
      "model_module_version": "1.5.0",
      "model_name": "ProgressStyleModel",
      "state": {
       "description_width": "initial"
      }
     },
     "26c0cf3b9a424fd09b227b5f6e9391cf": {
      "model_module": "@jupyter-widgets/base",
      "model_module_version": "1.2.0",
      "model_name": "LayoutModel",
      "state": {}
     },
     "27ca8873d6ba452ea2b3a03616d3abbf": {
      "model_module": "@jupyter-widgets/base",
      "model_module_version": "1.2.0",
      "model_name": "LayoutModel",
      "state": {}
     },
     "27e46d5fbe6f47ae904885dd5b667d74": {
      "model_module": "@jupyter-widgets/controls",
      "model_module_version": "1.5.0",
      "model_name": "DescriptionStyleModel",
      "state": {
       "description_width": ""
      }
     },
     "2a0755d1b49e415abcbe8f122f0af6d0": {
      "model_module": "@jupyter-widgets/base",
      "model_module_version": "1.2.0",
      "model_name": "LayoutModel",
      "state": {}
     },
     "2a87489e8922466d9274bef9305e040e": {
      "model_module": "@jupyter-widgets/base",
      "model_module_version": "1.2.0",
      "model_name": "LayoutModel",
      "state": {}
     },
     "2b55c4c372314ab99cc57689a4e08660": {
      "model_module": "@jupyter-widgets/base",
      "model_module_version": "1.2.0",
      "model_name": "LayoutModel",
      "state": {}
     },
     "2d58fba645594db0a4279f9d76d85137": {
      "model_module": "@jupyter-widgets/controls",
      "model_module_version": "1.5.0",
      "model_name": "HTMLModel",
      "state": {
       "layout": "IPY_MODEL_21be48d040644232b88731b13b0da0ac",
       "style": "IPY_MODEL_08315852030944e1a6a979edcc4b7f50",
       "value": " 96/96 [00:07&lt;00:00, 12.96it/s]"
      }
     },
     "2e292d2503a84172993964a0eac5fa48": {
      "model_module": "@jupyter-widgets/base",
      "model_module_version": "1.2.0",
      "model_name": "LayoutModel",
      "state": {}
     },
     "2f03cb80d9b84dd398eeff212c041582": {
      "model_module": "@jupyter-widgets/controls",
      "model_module_version": "1.5.0",
      "model_name": "IntProgressModel",
      "state": {
       "bar_style": "success",
       "description": "100%",
       "layout": "IPY_MODEL_102484bfedd94c498e9d39bb7994a0bd",
       "max": 384,
       "style": "IPY_MODEL_bfd581008f534a3ba06d2c14a1e9395b",
       "value": 384
      }
     },
     "2f99a6bff5dc4bc1bb2f48c7595982fa": {
      "model_module": "@jupyter-widgets/base",
      "model_module_version": "1.2.0",
      "model_name": "LayoutModel",
      "state": {}
     },
     "326bb028ea3c4860a9e6cb1733909c08": {
      "model_module": "@jupyter-widgets/controls",
      "model_module_version": "1.5.0",
      "model_name": "IntProgressModel",
      "state": {
       "bar_style": "success",
       "description": "100%",
       "layout": "IPY_MODEL_84356e62b4074c64a119fa6d650e6690",
       "max": 2,
       "style": "IPY_MODEL_a7e85500e99e4437ac9cfb34c6643500",
       "value": 2
      }
     },
     "3759c488c94c46259fbcffbdf8fce518": {
      "model_module": "@jupyter-widgets/controls",
      "model_module_version": "1.5.0",
      "model_name": "ProgressStyleModel",
      "state": {
       "description_width": "initial"
      }
     },
     "3920bfcbf95c472a9fc895936ff111d4": {
      "model_module": "@jupyter-widgets/controls",
      "model_module_version": "1.5.0",
      "model_name": "HBoxModel",
      "state": {
       "children": [
        "IPY_MODEL_9df897a1702341b0a5fd41fca5de7337",
        "IPY_MODEL_bf055055263c427fba2d0b4798cac3ad"
       ],
       "layout": "IPY_MODEL_5761d460bb3444a496e19c2c6adc785a"
      }
     },
     "3b2dd8d36d5c44d2af5bd57933719932": {
      "model_module": "@jupyter-widgets/controls",
      "model_module_version": "1.5.0",
      "model_name": "HTMLModel",
      "state": {
       "layout": "IPY_MODEL_9ce7651d5a4f40bab5c6f98deaf7425c",
       "style": "IPY_MODEL_4a2686b2e44d42949c855d46a820b6b7",
       "value": " 2/2 [04:20&lt;00:00, 130.44s/it]"
      }
     },
     "3cf5e844ee5c41df833882bd936e1168": {
      "model_module": "@jupyter-widgets/base",
      "model_module_version": "1.2.0",
      "model_name": "LayoutModel",
      "state": {}
     },
     "3d1498c8acfa41009682175fed020968": {
      "model_module": "@jupyter-widgets/controls",
      "model_module_version": "1.5.0",
      "model_name": "IntProgressModel",
      "state": {
       "bar_style": "success",
       "description": "100%",
       "layout": "IPY_MODEL_9ed2cf3978174e579062b9a51a68ddf7",
       "max": 384,
       "style": "IPY_MODEL_d2065c8eb5eb496984721d821b4d6842",
       "value": 384
      }
     },
     "3d3065ad142e4ade870a889f6ea28534": {
      "model_module": "@jupyter-widgets/controls",
      "model_module_version": "1.5.0",
      "model_name": "HBoxModel",
      "state": {
       "children": [
        "IPY_MODEL_63497c51f479416cba3d9078c94ba8b9",
        "IPY_MODEL_1298b00c265d4c34b270670a1fa2005a"
       ],
       "layout": "IPY_MODEL_2b55c4c372314ab99cc57689a4e08660"
      }
     },
     "3d60d46c8e194580a3fc94cfa2a8b4d6": {
      "model_module": "@jupyter-widgets/controls",
      "model_module_version": "1.5.0",
      "model_name": "HTMLModel",
      "state": {
       "layout": "IPY_MODEL_be3ff27cece6478dbe9c741906809bf6",
       "style": "IPY_MODEL_27e46d5fbe6f47ae904885dd5b667d74",
       "value": " 2/2 [04:20&lt;00:00, 130.44s/it]"
      }
     },
     "3e3217f3ec0742d6a9d2a64fe367028c": {
      "model_module": "@jupyter-widgets/controls",
      "model_module_version": "1.5.0",
      "model_name": "DescriptionStyleModel",
      "state": {
       "description_width": ""
      }
     },
     "3f337929e1754ae1949ee645183e9ae0": {
      "model_module": "@jupyter-widgets/controls",
      "model_module_version": "1.5.0",
      "model_name": "HTMLModel",
      "state": {
       "layout": "IPY_MODEL_bbe47b32b3604a299d02e8a86eea31b8",
       "style": "IPY_MODEL_1e35c3bfb7e8431c8cc77beab4b9d93c",
       "value": " 2/2 [00:24&lt;00:00, 12.49s/it]"
      }
     },
     "4059bb9d6d1d41f3a98cd4292e2ae8de": {
      "model_module": "@jupyter-widgets/controls",
      "model_module_version": "1.5.0",
      "model_name": "DescriptionStyleModel",
      "state": {
       "description_width": ""
      }
     },
     "43543609d5524d1ba5f382459d827dd0": {
      "model_module": "@jupyter-widgets/controls",
      "model_module_version": "1.5.0",
      "model_name": "DescriptionStyleModel",
      "state": {
       "description_width": ""
      }
     },
     "454bc63d54414baa82a2bb47abbaa777": {
      "model_module": "@jupyter-widgets/controls",
      "model_module_version": "1.5.0",
      "model_name": "IntProgressModel",
      "state": {
       "bar_style": "success",
       "description": "Current iteration: 100%",
       "layout": "IPY_MODEL_5af45123b7cc4ccca0809add1e643d7c",
       "max": 12,
       "style": "IPY_MODEL_3759c488c94c46259fbcffbdf8fce518",
       "value": 12
      }
     },
     "45e79212bfb841749f774c990716cd39": {
      "model_module": "@jupyter-widgets/base",
      "model_module_version": "1.2.0",
      "model_name": "LayoutModel",
      "state": {}
     },
     "46183d2048c04374a500ebd382bcdd26": {
      "model_module": "@jupyter-widgets/controls",
      "model_module_version": "1.5.0",
      "model_name": "ProgressStyleModel",
      "state": {
       "description_width": "initial"
      }
     },
     "4a2686b2e44d42949c855d46a820b6b7": {
      "model_module": "@jupyter-widgets/controls",
      "model_module_version": "1.5.0",
      "model_name": "DescriptionStyleModel",
      "state": {
       "description_width": ""
      }
     },
     "4a9d1f708bde4bc7b99f81eac5772e38": {
      "model_module": "@jupyter-widgets/controls",
      "model_module_version": "1.5.0",
      "model_name": "HBoxModel",
      "state": {
       "children": [
        "IPY_MODEL_641dda9ede444166ad3902a468f0c4af",
        "IPY_MODEL_2d58fba645594db0a4279f9d76d85137"
       ],
       "layout": "IPY_MODEL_0fab89d7db134d4f982b2cba39069363"
      }
     },
     "4d731008c2984a0ebf670272bf92078c": {
      "model_module": "@jupyter-widgets/base",
      "model_module_version": "1.2.0",
      "model_name": "LayoutModel",
      "state": {}
     },
     "4da7c30b98674cfb97ace23a71319884": {
      "model_module": "@jupyter-widgets/base",
      "model_module_version": "1.2.0",
      "model_name": "LayoutModel",
      "state": {}
     },
     "4e648259837e483aa0aa44d5eb7c0497": {
      "model_module": "@jupyter-widgets/controls",
      "model_module_version": "1.5.0",
      "model_name": "HBoxModel",
      "state": {
       "children": [
        "IPY_MODEL_8fc225b6d2a64935bbc3fb2d00383229",
        "IPY_MODEL_c99d7bd0563346e2a99dbb545ce1414e"
       ],
       "layout": "IPY_MODEL_27ca8873d6ba452ea2b3a03616d3abbf"
      }
     },
     "53c7d9605a454eccae511dfb932b45de": {
      "model_module": "@jupyter-widgets/controls",
      "model_module_version": "1.5.0",
      "model_name": "HTMLModel",
      "state": {
       "layout": "IPY_MODEL_e9900b9806904e13a832caf4e0b4a551",
       "style": "IPY_MODEL_166f7781b97a4d2aacd95ccbb26948cb",
       "value": " 12/12 [01:45&lt;00:00,  8.80s/it]"
      }
     },
     "5761d460bb3444a496e19c2c6adc785a": {
      "model_module": "@jupyter-widgets/base",
      "model_module_version": "1.2.0",
      "model_name": "LayoutModel",
      "state": {}
     },
     "58c5b9a7275b47a89efab85b622807a6": {
      "model_module": "@jupyter-widgets/controls",
      "model_module_version": "1.5.0",
      "model_name": "DescriptionStyleModel",
      "state": {
       "description_width": ""
      }
     },
     "5af45123b7cc4ccca0809add1e643d7c": {
      "model_module": "@jupyter-widgets/base",
      "model_module_version": "1.2.0",
      "model_name": "LayoutModel",
      "state": {}
     },
     "5c04734165fa40eea3e9ce24c29412c2": {
      "model_module": "@jupyter-widgets/controls",
      "model_module_version": "1.5.0",
      "model_name": "IntProgressModel",
      "state": {
       "bar_style": "success",
       "description": "Epoch: 100%",
       "layout": "IPY_MODEL_614bb3d84a61402d9421adb7710eb8d3",
       "max": 2,
       "style": "IPY_MODEL_7e9ceede7b084a7a92e8f3782f4803c9",
       "value": 2
      }
     },
     "5fc7f7eebf914fa69d429e853efc7b2a": {
      "model_module": "@jupyter-widgets/controls",
      "model_module_version": "1.5.0",
      "model_name": "ProgressStyleModel",
      "state": {
       "description_width": "initial"
      }
     },
     "614bb3d84a61402d9421adb7710eb8d3": {
      "model_module": "@jupyter-widgets/base",
      "model_module_version": "1.2.0",
      "model_name": "LayoutModel",
      "state": {}
     },
     "62cb84520f6a41a6964227c23a399c50": {
      "model_module": "@jupyter-widgets/base",
      "model_module_version": "1.2.0",
      "model_name": "LayoutModel",
      "state": {}
     },
     "63497c51f479416cba3d9078c94ba8b9": {
      "model_module": "@jupyter-widgets/controls",
      "model_module_version": "1.5.0",
      "model_name": "IntProgressModel",
      "state": {
       "bar_style": "success",
       "description": "Current iteration: 100%",
       "layout": "IPY_MODEL_06f8916c37cf48e9b0dec8a46ce027f7",
       "max": 12,
       "style": "IPY_MODEL_f798fcf6b24941959827a20794d6fd05",
       "value": 12
      }
     },
     "641dda9ede444166ad3902a468f0c4af": {
      "model_module": "@jupyter-widgets/controls",
      "model_module_version": "1.5.0",
      "model_name": "IntProgressModel",
      "state": {
       "bar_style": "success",
       "description": "100%",
       "layout": "IPY_MODEL_69c9680a5fea4903b60bfebb3e5fb12a",
       "max": 96,
       "style": "IPY_MODEL_225548c3363545e1a8438cccafd7200f",
       "value": 96
      }
     },
     "67dbd82b63514dc784941f580a1bd763": {
      "model_module": "@jupyter-widgets/controls",
      "model_module_version": "1.5.0",
      "model_name": "DescriptionStyleModel",
      "state": {
       "description_width": ""
      }
     },
     "68626d833f3b4e2097736f95ca1f06ef": {
      "model_module": "@jupyter-widgets/controls",
      "model_module_version": "1.5.0",
      "model_name": "IntProgressModel",
      "state": {
       "bar_style": "success",
       "description": "100%",
       "layout": "IPY_MODEL_89ccf68f0a3f498aa5f7fa61d28e54da",
       "max": 2,
       "style": "IPY_MODEL_df6997d1d41449439b4470d67348eb13",
       "value": 2
      }
     },
     "69b591467961448cadcd6eed3a1d4440": {
      "model_module": "@jupyter-widgets/controls",
      "model_module_version": "1.5.0",
      "model_name": "HTMLModel",
      "state": {
       "layout": "IPY_MODEL_2a0755d1b49e415abcbe8f122f0af6d0",
       "style": "IPY_MODEL_ea576be4b56e4c009112b45a7f994af5",
       "value": " 13/13 [01:52&lt;00:00,  8.63s/it]"
      }
     },
     "69c9680a5fea4903b60bfebb3e5fb12a": {
      "model_module": "@jupyter-widgets/base",
      "model_module_version": "1.2.0",
      "model_name": "LayoutModel",
      "state": {}
     },
     "702e99e879854504b7ed17346d5d6d37": {
      "model_module": "@jupyter-widgets/base",
      "model_module_version": "1.2.0",
      "model_name": "LayoutModel",
      "state": {}
     },
     "771bf500e05548d8ae7e549bd0f9befa": {
      "model_module": "@jupyter-widgets/base",
      "model_module_version": "1.2.0",
      "model_name": "LayoutModel",
      "state": {}
     },
     "78a1b6ee0dc84f51b55a63accb26a937": {
      "model_module": "@jupyter-widgets/base",
      "model_module_version": "1.2.0",
      "model_name": "LayoutModel",
      "state": {}
     },
     "7e08f4efd7f44694b1242a03145876b0": {
      "model_module": "@jupyter-widgets/controls",
      "model_module_version": "1.5.0",
      "model_name": "DescriptionStyleModel",
      "state": {
       "description_width": ""
      }
     },
     "7e9ceede7b084a7a92e8f3782f4803c9": {
      "model_module": "@jupyter-widgets/controls",
      "model_module_version": "1.5.0",
      "model_name": "ProgressStyleModel",
      "state": {
       "description_width": "initial"
      }
     },
     "806fc7cc9a2b47e1b79957a3aba69986": {
      "model_module": "@jupyter-widgets/controls",
      "model_module_version": "1.5.0",
      "model_name": "HTMLModel",
      "state": {
       "layout": "IPY_MODEL_833817d644364ad881379e00a72231d2",
       "style": "IPY_MODEL_67dbd82b63514dc784941f580a1bd763",
       "value": " 13/13 [01:50&lt;00:00,  8.52s/it]"
      }
     },
     "82870ca371d7414387abc2d5e85b65c9": {
      "model_module": "@jupyter-widgets/controls",
      "model_module_version": "1.5.0",
      "model_name": "IntProgressModel",
      "state": {
       "bar_style": "success",
       "description": "Current iteration: 100%",
       "layout": "IPY_MODEL_c45d87d3f38049ad863623b6567bb843",
       "max": 12,
       "style": "IPY_MODEL_fe6cb842100840c5bcd7b57a95b9b404",
       "value": 12
      }
     },
     "83066787f2124a3982938894412ff63c": {
      "model_module": "@jupyter-widgets/controls",
      "model_module_version": "1.5.0",
      "model_name": "DescriptionStyleModel",
      "state": {
       "description_width": ""
      }
     },
     "833817d644364ad881379e00a72231d2": {
      "model_module": "@jupyter-widgets/base",
      "model_module_version": "1.2.0",
      "model_name": "LayoutModel",
      "state": {}
     },
     "84356e62b4074c64a119fa6d650e6690": {
      "model_module": "@jupyter-widgets/base",
      "model_module_version": "1.2.0",
      "model_name": "LayoutModel",
      "state": {}
     },
     "8516d437b0a544c9a644818433823e37": {
      "model_module": "@jupyter-widgets/controls",
      "model_module_version": "1.5.0",
      "model_name": "ProgressStyleModel",
      "state": {
       "description_width": "initial"
      }
     },
     "89ccf68f0a3f498aa5f7fa61d28e54da": {
      "model_module": "@jupyter-widgets/base",
      "model_module_version": "1.2.0",
      "model_name": "LayoutModel",
      "state": {}
     },
     "8cfeedff3fa3456ab4568cb6d12d3538": {
      "model_module": "@jupyter-widgets/controls",
      "model_module_version": "1.5.0",
      "model_name": "HBoxModel",
      "state": {
       "children": [
        "IPY_MODEL_326bb028ea3c4860a9e6cb1733909c08",
        "IPY_MODEL_3f337929e1754ae1949ee645183e9ae0"
       ],
       "layout": "IPY_MODEL_13ef1eed41fb45f890032b25f26c123a"
      }
     },
     "8ea1b4fd22734325bf6cc66ac780ca44": {
      "model_module": "@jupyter-widgets/base",
      "model_module_version": "1.2.0",
      "model_name": "LayoutModel",
      "state": {}
     },
     "8fc225b6d2a64935bbc3fb2d00383229": {
      "model_module": "@jupyter-widgets/controls",
      "model_module_version": "1.5.0",
      "model_name": "IntProgressModel",
      "state": {
       "bar_style": "success",
       "description": "Current iteration: 100%",
       "layout": "IPY_MODEL_e6a7b3cf29684f76bc185a37c4f224e8",
       "max": 12,
       "style": "IPY_MODEL_2443d88a696a4c7ba044c6e4fd91705d",
       "value": 12
      }
     },
     "9028fe813bb24ccba520394a541d8958": {
      "model_module": "@jupyter-widgets/base",
      "model_module_version": "1.2.0",
      "model_name": "LayoutModel",
      "state": {}
     },
     "96d964ff0d914eba9e717022d2af1d4c": {
      "model_module": "@jupyter-widgets/base",
      "model_module_version": "1.2.0",
      "model_name": "LayoutModel",
      "state": {}
     },
     "9a2d740110ce453e98e1749866c4bbba": {
      "model_module": "@jupyter-widgets/base",
      "model_module_version": "1.2.0",
      "model_name": "LayoutModel",
      "state": {}
     },
     "9ce7651d5a4f40bab5c6f98deaf7425c": {
      "model_module": "@jupyter-widgets/base",
      "model_module_version": "1.2.0",
      "model_name": "LayoutModel",
      "state": {}
     },
     "9d643eb1e9134d00b2eba52b2058f1fc": {
      "model_module": "@jupyter-widgets/base",
      "model_module_version": "1.2.0",
      "model_name": "LayoutModel",
      "state": {}
     },
     "9df897a1702341b0a5fd41fca5de7337": {
      "model_module": "@jupyter-widgets/controls",
      "model_module_version": "1.5.0",
      "model_name": "IntProgressModel",
      "state": {
       "bar_style": "success",
       "description": "100%",
       "layout": "IPY_MODEL_96d964ff0d914eba9e717022d2af1d4c",
       "max": 96,
       "style": "IPY_MODEL_c20b5323a9ad4e52bb32b651b5714feb",
       "value": 96
      }
     },
     "9ed2cf3978174e579062b9a51a68ddf7": {
      "model_module": "@jupyter-widgets/base",
      "model_module_version": "1.2.0",
      "model_name": "LayoutModel",
      "state": {}
     },
     "9fe1477e94ff4a5b8785dc4f6cad4644": {
      "model_module": "@jupyter-widgets/controls",
      "model_module_version": "1.5.0",
      "model_name": "IntProgressModel",
      "state": {
       "bar_style": "success",
       "description": "100%",
       "layout": "IPY_MODEL_fbca92ce469241b488253dece09516cc",
       "max": 2,
       "style": "IPY_MODEL_e489c3ad178546dfb636472dba8c553f",
       "value": 2
      }
     },
     "a50319a972c7485d91e04571e3e09e03": {
      "model_module": "@jupyter-widgets/controls",
      "model_module_version": "1.5.0",
      "model_name": "IntProgressModel",
      "state": {
       "bar_style": "success",
       "description": "Epoch: 100%",
       "layout": "IPY_MODEL_2f99a6bff5dc4bc1bb2f48c7595982fa",
       "max": 2,
       "style": "IPY_MODEL_46183d2048c04374a500ebd382bcdd26",
       "value": 2
      }
     },
     "a7e85500e99e4437ac9cfb34c6643500": {
      "model_module": "@jupyter-widgets/controls",
      "model_module_version": "1.5.0",
      "model_name": "ProgressStyleModel",
      "state": {
       "description_width": "initial"
      }
     },
     "a88fb4c2faa84a6786a6d5628db4c1ea": {
      "model_module": "@jupyter-widgets/controls",
      "model_module_version": "1.5.0",
      "model_name": "IntProgressModel",
      "state": {
       "bar_style": "success",
       "description": "Current iteration: 100%",
       "layout": "IPY_MODEL_78a1b6ee0dc84f51b55a63accb26a937",
       "max": 13,
       "style": "IPY_MODEL_5fc7f7eebf914fa69d429e853efc7b2a",
       "value": 13
      }
     },
     "a8ff823c76bf4d70bca0a507451a0989": {
      "model_module": "@jupyter-widgets/controls",
      "model_module_version": "1.5.0",
      "model_name": "HBoxModel",
      "state": {
       "children": [
        "IPY_MODEL_f4ff1c625bee40759e10a9decddc2b05",
        "IPY_MODEL_f8a4c2c07d234001b91b97fc814fe7f9"
       ],
       "layout": "IPY_MODEL_9028fe813bb24ccba520394a541d8958"
      }
     },
     "acfee4571b2a4b8e995413bfa9857019": {
      "model_module": "@jupyter-widgets/controls",
      "model_module_version": "1.5.0",
      "model_name": "HBoxModel",
      "state": {
       "children": [
        "IPY_MODEL_9fe1477e94ff4a5b8785dc4f6cad4644",
        "IPY_MODEL_cb8db0147b944448b0803f631582fbea"
       ],
       "layout": "IPY_MODEL_2a87489e8922466d9274bef9305e040e"
      }
     },
     "aef52a48d3f04e11b8671636047035b8": {
      "model_module": "@jupyter-widgets/controls",
      "model_module_version": "1.5.0",
      "model_name": "HBoxModel",
      "state": {
       "children": [
        "IPY_MODEL_82870ca371d7414387abc2d5e85b65c9",
        "IPY_MODEL_b6098f44a90941629cd6bf2eea6bd399"
       ],
       "layout": "IPY_MODEL_f5cd1e1bcd384bb4b74af65f5cb4e05d"
      }
     },
     "aefd0d688aa74d8eb3890d382e415ab1": {
      "model_module": "@jupyter-widgets/base",
      "model_module_version": "1.2.0",
      "model_name": "LayoutModel",
      "state": {}
     },
     "af3fc0a58ba1467bae0e761c35795948": {
      "model_module": "@jupyter-widgets/controls",
      "model_module_version": "1.5.0",
      "model_name": "HBoxModel",
      "state": {
       "children": [
        "IPY_MODEL_454bc63d54414baa82a2bb47abbaa777",
        "IPY_MODEL_53c7d9605a454eccae511dfb932b45de"
       ],
       "layout": "IPY_MODEL_62cb84520f6a41a6964227c23a399c50"
      }
     },
     "b53ef020bb5c4aecbaf471d33442f6b3": {
      "model_module": "@jupyter-widgets/base",
      "model_module_version": "1.2.0",
      "model_name": "LayoutModel",
      "state": {}
     },
     "b6098f44a90941629cd6bf2eea6bd399": {
      "model_module": "@jupyter-widgets/controls",
      "model_module_version": "1.5.0",
      "model_name": "HTMLModel",
      "state": {
       "layout": "IPY_MODEL_aefd0d688aa74d8eb3890d382e415ab1",
       "style": "IPY_MODEL_d5d1d34b228f4429aaf93ff3ee1d08f3",
       "value": " 12/12 [01:45&lt;00:00,  8.78s/it]"
      }
     },
     "b6d247ab7b754c3bbf659cec41665ed1": {
      "model_module": "@jupyter-widgets/controls",
      "model_module_version": "1.5.0",
      "model_name": "DescriptionStyleModel",
      "state": {
       "description_width": ""
      }
     },
     "bb855af0a80044b4955c30f6a331c85b": {
      "model_module": "@jupyter-widgets/controls",
      "model_module_version": "1.5.0",
      "model_name": "ProgressStyleModel",
      "state": {
       "description_width": "initial"
      }
     },
     "bbe47b32b3604a299d02e8a86eea31b8": {
      "model_module": "@jupyter-widgets/base",
      "model_module_version": "1.2.0",
      "model_name": "LayoutModel",
      "state": {}
     },
     "bd4c3a4c56cd4281b66ddab110525a03": {
      "model_module": "@jupyter-widgets/controls",
      "model_module_version": "1.5.0",
      "model_name": "ProgressStyleModel",
      "state": {
       "description_width": "initial"
      }
     },
     "be3ff27cece6478dbe9c741906809bf6": {
      "model_module": "@jupyter-widgets/base",
      "model_module_version": "1.2.0",
      "model_name": "LayoutModel",
      "state": {}
     },
     "bf055055263c427fba2d0b4798cac3ad": {
      "model_module": "@jupyter-widgets/controls",
      "model_module_version": "1.5.0",
      "model_name": "HTMLModel",
      "state": {
       "layout": "IPY_MODEL_26c0cf3b9a424fd09b227b5f6e9391cf",
       "style": "IPY_MODEL_1b1b8187a46841969cd1e4b1fb9c42fe",
       "value": " 96/96 [00:00&lt;00:00, 387.80it/s]"
      }
     },
     "bf086b01f2ed458c8de03fdc7f8f3e32": {
      "model_module": "@jupyter-widgets/base",
      "model_module_version": "1.2.0",
      "model_name": "LayoutModel",
      "state": {}
     },
     "bfd581008f534a3ba06d2c14a1e9395b": {
      "model_module": "@jupyter-widgets/controls",
      "model_module_version": "1.5.0",
      "model_name": "ProgressStyleModel",
      "state": {
       "description_width": "initial"
      }
     },
     "c0fcc6662c504754be0fead6b6899e92": {
      "model_module": "@jupyter-widgets/controls",
      "model_module_version": "1.5.0",
      "model_name": "HBoxModel",
      "state": {
       "children": [
        "IPY_MODEL_15ff520ea82e4a4cafbaee3720e6140e",
        "IPY_MODEL_fd87eac8b9e448e6a124b7dc82fcfac4"
       ],
       "layout": "IPY_MODEL_ed8828f294354845b8fdf7f2e6013453"
      }
     },
     "c20b5323a9ad4e52bb32b651b5714feb": {
      "model_module": "@jupyter-widgets/controls",
      "model_module_version": "1.5.0",
      "model_name": "ProgressStyleModel",
      "state": {
       "description_width": "initial"
      }
     },
     "c45d87d3f38049ad863623b6567bb843": {
      "model_module": "@jupyter-widgets/base",
      "model_module_version": "1.2.0",
      "model_name": "LayoutModel",
      "state": {}
     },
     "c99d7bd0563346e2a99dbb545ce1414e": {
      "model_module": "@jupyter-widgets/controls",
      "model_module_version": "1.5.0",
      "model_name": "HTMLModel",
      "state": {
       "layout": "IPY_MODEL_b53ef020bb5c4aecbaf471d33442f6b3",
       "style": "IPY_MODEL_83066787f2124a3982938894412ff63c",
       "value": " 12/12 [01:46&lt;00:00,  8.83s/it]"
      }
     },
     "cb8db0147b944448b0803f631582fbea": {
      "model_module": "@jupyter-widgets/controls",
      "model_module_version": "1.5.0",
      "model_name": "HTMLModel",
      "state": {
       "layout": "IPY_MODEL_0ef545ba173544af8ee78ccd93a2339d",
       "style": "IPY_MODEL_4059bb9d6d1d41f3a98cd4292e2ae8de",
       "value": " 2/2 [00:20&lt;00:00, 10.06s/it]"
      }
     },
     "d2065c8eb5eb496984721d821b4d6842": {
      "model_module": "@jupyter-widgets/controls",
      "model_module_version": "1.5.0",
      "model_name": "ProgressStyleModel",
      "state": {
       "description_width": "initial"
      }
     },
     "d54dd28ad26c4283ad2b4c2635a7c9b2": {
      "model_module": "@jupyter-widgets/controls",
      "model_module_version": "1.5.0",
      "model_name": "HBoxModel",
      "state": {
       "children": [
        "IPY_MODEL_3d1498c8acfa41009682175fed020968",
        "IPY_MODEL_e500dfffa4fc4c60bf3cd8b29c65e26f"
       ],
       "layout": "IPY_MODEL_771bf500e05548d8ae7e549bd0f9befa"
      }
     },
     "d5d1d34b228f4429aaf93ff3ee1d08f3": {
      "model_module": "@jupyter-widgets/controls",
      "model_module_version": "1.5.0",
      "model_name": "DescriptionStyleModel",
      "state": {
       "description_width": ""
      }
     },
     "dae9ff81ac9740a5ad0ca6434d426869": {
      "model_module": "@jupyter-widgets/controls",
      "model_module_version": "1.5.0",
      "model_name": "HBoxModel",
      "state": {
       "children": [
        "IPY_MODEL_68626d833f3b4e2097736f95ca1f06ef",
        "IPY_MODEL_15798dd34af84c29ba6ead573ba0e871"
       ],
       "layout": "IPY_MODEL_4d731008c2984a0ebf670272bf92078c"
      }
     },
     "df6997d1d41449439b4470d67348eb13": {
      "model_module": "@jupyter-widgets/controls",
      "model_module_version": "1.5.0",
      "model_name": "ProgressStyleModel",
      "state": {
       "description_width": "initial"
      }
     },
     "df6b6e58cf3f4dc68b265f158690abfa": {
      "model_module": "@jupyter-widgets/controls",
      "model_module_version": "1.5.0",
      "model_name": "IntProgressModel",
      "state": {
       "bar_style": "success",
       "description": "Current iteration: 100%",
       "layout": "IPY_MODEL_45e79212bfb841749f774c990716cd39",
       "max": 13,
       "style": "IPY_MODEL_bb855af0a80044b4955c30f6a331c85b",
       "value": 13
      }
     },
     "e138cb4863804fc8b3ab09f5bdeacd31": {
      "model_module": "@jupyter-widgets/base",
      "model_module_version": "1.2.0",
      "model_name": "LayoutModel",
      "state": {}
     },
     "e1bffe93c8f2493fb8710f14f1cd4644": {
      "model_module": "@jupyter-widgets/controls",
      "model_module_version": "1.5.0",
      "model_name": "HBoxModel",
      "state": {
       "children": [
        "IPY_MODEL_5c04734165fa40eea3e9ce24c29412c2",
        "IPY_MODEL_3b2dd8d36d5c44d2af5bd57933719932"
       ],
       "layout": "IPY_MODEL_4da7c30b98674cfb97ace23a71319884"
      }
     },
     "e489c3ad178546dfb636472dba8c553f": {
      "model_module": "@jupyter-widgets/controls",
      "model_module_version": "1.5.0",
      "model_name": "ProgressStyleModel",
      "state": {
       "description_width": "initial"
      }
     },
     "e50003d822cb42efa6da872c50250c66": {
      "model_module": "@jupyter-widgets/base",
      "model_module_version": "1.2.0",
      "model_name": "LayoutModel",
      "state": {}
     },
     "e500dfffa4fc4c60bf3cd8b29c65e26f": {
      "model_module": "@jupyter-widgets/controls",
      "model_module_version": "1.5.0",
      "model_name": "HTMLModel",
      "state": {
       "layout": "IPY_MODEL_0c3aaa599d414dd29416c2ae955fda55",
       "style": "IPY_MODEL_b6d247ab7b754c3bbf659cec41665ed1",
       "value": " 384/384 [00:01&lt;00:00, 333.10it/s]"
      }
     },
     "e6a7b3cf29684f76bc185a37c4f224e8": {
      "model_module": "@jupyter-widgets/base",
      "model_module_version": "1.2.0",
      "model_name": "LayoutModel",
      "state": {}
     },
     "e701e040619f4cb5bf9c00f9a2db1655": {
      "model_module": "@jupyter-widgets/base",
      "model_module_version": "1.2.0",
      "model_name": "LayoutModel",
      "state": {}
     },
     "e97c30a910754618a962c97a76669489": {
      "model_module": "@jupyter-widgets/controls",
      "model_module_version": "1.5.0",
      "model_name": "HBoxModel",
      "state": {
       "children": [
        "IPY_MODEL_a50319a972c7485d91e04571e3e09e03",
        "IPY_MODEL_3d60d46c8e194580a3fc94cfa2a8b4d6"
       ],
       "layout": "IPY_MODEL_e138cb4863804fc8b3ab09f5bdeacd31"
      }
     },
     "e9900b9806904e13a832caf4e0b4a551": {
      "model_module": "@jupyter-widgets/base",
      "model_module_version": "1.2.0",
      "model_name": "LayoutModel",
      "state": {}
     },
     "ea576be4b56e4c009112b45a7f994af5": {
      "model_module": "@jupyter-widgets/controls",
      "model_module_version": "1.5.0",
      "model_name": "DescriptionStyleModel",
      "state": {
       "description_width": ""
      }
     },
     "eb8002af60c7478791b6f2c5312ff8aa": {
      "model_module": "@jupyter-widgets/controls",
      "model_module_version": "1.5.0",
      "model_name": "IntProgressModel",
      "state": {
       "bar_style": "success",
       "description": "100%",
       "layout": "IPY_MODEL_227ef397f42a4564a584ee2b6097c00f",
       "style": "IPY_MODEL_f954b882b6bc44c09e0d30c33db210b1",
       "value": 100
      }
     },
     "ed8828f294354845b8fdf7f2e6013453": {
      "model_module": "@jupyter-widgets/base",
      "model_module_version": "1.2.0",
      "model_name": "LayoutModel",
      "state": {}
     },
     "f4ff1c625bee40759e10a9decddc2b05": {
      "model_module": "@jupyter-widgets/controls",
      "model_module_version": "1.5.0",
      "model_name": "IntProgressModel",
      "state": {
       "bar_style": "success",
       "description": "100%",
       "layout": "IPY_MODEL_0bbae697d7d34c22ae4f786e3ffa763f",
       "max": 400,
       "style": "IPY_MODEL_bd4c3a4c56cd4281b66ddab110525a03",
       "value": 400
      }
     },
     "f5cd1e1bcd384bb4b74af65f5cb4e05d": {
      "model_module": "@jupyter-widgets/base",
      "model_module_version": "1.2.0",
      "model_name": "LayoutModel",
      "state": {}
     },
     "f798fcf6b24941959827a20794d6fd05": {
      "model_module": "@jupyter-widgets/controls",
      "model_module_version": "1.5.0",
      "model_name": "ProgressStyleModel",
      "state": {
       "description_width": "initial"
      }
     },
     "f8a4c2c07d234001b91b97fc814fe7f9": {
      "model_module": "@jupyter-widgets/controls",
      "model_module_version": "1.5.0",
      "model_name": "HTMLModel",
      "state": {
       "layout": "IPY_MODEL_9d643eb1e9134d00b2eba52b2058f1fc",
       "style": "IPY_MODEL_58c5b9a7275b47a89efab85b622807a6",
       "value": " 400/400 [00:02&lt;00:00, 158.41it/s]"
      }
     },
     "f954b882b6bc44c09e0d30c33db210b1": {
      "model_module": "@jupyter-widgets/controls",
      "model_module_version": "1.5.0",
      "model_name": "ProgressStyleModel",
      "state": {
       "description_width": "initial"
      }
     },
     "fbca92ce469241b488253dece09516cc": {
      "model_module": "@jupyter-widgets/base",
      "model_module_version": "1.2.0",
      "model_name": "LayoutModel",
      "state": {}
     },
     "fd87eac8b9e448e6a124b7dc82fcfac4": {
      "model_module": "@jupyter-widgets/controls",
      "model_module_version": "1.5.0",
      "model_name": "HTMLModel",
      "state": {
       "layout": "IPY_MODEL_23c58bcac85548ed8ffe67c38fa8894c",
       "style": "IPY_MODEL_7e08f4efd7f44694b1242a03145876b0",
       "value": " 2/2 [04:44&lt;00:00, 142.19s/it]"
      }
     },
     "fe6cb842100840c5bcd7b57a95b9b404": {
      "model_module": "@jupyter-widgets/controls",
      "model_module_version": "1.5.0",
      "model_name": "ProgressStyleModel",
      "state": {
       "description_width": "initial"
      }
     }
    },
    "version_major": 2,
    "version_minor": 0
   }
  }
 },
 "nbformat": 4,
 "nbformat_minor": 2
}
